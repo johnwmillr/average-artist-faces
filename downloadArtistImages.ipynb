{
 "cells": [
  {
   "cell_type": "markdown",
   "metadata": {},
   "source": [
    "# Download artist images\n",
    "\n",
    "We want images of faces for rap, rock, and country artists."
   ]
  },
  {
   "cell_type": "code",
   "execution_count": 1,
   "metadata": {
    "ExecuteTime": {
     "end_time": "2018-12-20T05:41:14.992524Z",
     "start_time": "2018-12-20T05:41:12.999745Z"
    }
   },
   "outputs": [],
   "source": [
    "import numpy as np\n",
    "import pandas as pd\n",
    "import matplotlib.pyplot as plt\n",
    "# import seaborn as sns\n",
    "import json\n",
    "import time\n",
    "import re\n",
    "from collections import Counter\n",
    "import pickle\n",
    "import cv2\n",
    "import wikipedia\n",
    "from google_images_download import google_images_download"
   ]
  },
  {
   "cell_type": "code",
   "execution_count": 2,
   "metadata": {
    "ExecuteTime": {
     "end_time": "2018-12-20T05:41:15.037969Z",
     "start_time": "2018-12-20T05:41:15.016892Z"
    }
   },
   "outputs": [],
   "source": [
    "# Change the Matplotlib defaults\n",
    "colors = np.array([(182,109,255),(218,109,0),(0,146,146)])/255\n",
    "plt.rcParams.update({'font.size': 16, 'figure.figsize': (12.0, 6.0)})\n",
    "plt.style.use('seaborn')\n",
    "%matplotlib inline"
   ]
  },
  {
   "cell_type": "markdown",
   "metadata": {},
   "source": [
    "# Collect lists of artist names from various sources"
   ]
  },
  {
   "cell_type": "markdown",
   "metadata": {},
   "source": [
    "## Get artist names from Wikipedia"
   ]
  },
  {
   "cell_type": "code",
   "execution_count": 3,
   "metadata": {},
   "outputs": [],
   "source": [
    "import requests\n",
    "from bs4 import BeautifulSoup"
   ]
  },
  {
   "cell_type": "code",
   "execution_count": 4,
   "metadata": {},
   "outputs": [],
   "source": [
    "categories = [\"Category:American_female_country_singers\",\n",
    "              \"Category:American_male_rappers\",\n",
    "              \"Category:American_female_rappers\"]"
   ]
  },
  {
   "cell_type": "code",
   "execution_count": 5,
   "metadata": {},
   "outputs": [
    {
     "name": "stdout",
     "output_type": "stream",
     "text": [
      "\n",
      "Category:American_female_country_singers\n",
      "['Connie Francis', 'Paula Frazer', 'Adrianna Freeman', 'Dori Freeman']\n",
      "['Moonshine Kate', 'Abra Moore', 'Allison Moorer', 'Heather Morgan (songwriter)']\n",
      "['Chickie Williams', 'Dar Williams', 'Holly Williams', 'Joy Williams (singer)']\n",
      "['Pia Zadora', 'Andrea Zonn']\n",
      "Reached the last page.\n",
      "\n",
      "Category:American_male_rappers\n",
      "['Meechy Darko', 'Datin (rapper)', 'Deacon the Villain', 'Menace Demarco']\n",
      "['Rob Sonic', 'Souleye (hip hop artist)', 'Bubba Sparxxx', 'Speak!']\n",
      "['Jonny Z', 'VZilla', 'Zombie Juice']\n",
      "Reached the last page.\n",
      "\n",
      "Category:American_female_rappers\n",
      "['Shawnna', 'Magnolia Shorty', 'Shunda K', 'Natalie Sims']\n",
      "['Yo-Yo (rapper)', 'Yoon Mi-rae', 'Young M.A', 'Maimouna Youssef']\n",
      "Reached the last page.\n",
      "Found 1234 total names.\n"
     ]
    }
   ],
   "source": [
    "# Provide the content category and starting URL\n",
    "root = \"https://en.wikipedia.org\"\n",
    "artist_names = {}\n",
    "total = 0\n",
    "for category in categories:\n",
    "    print(\"\\n\" + category)\n",
    "    url = f\"{root}/wiki/{category}\"\n",
    "    key = category.split(\":\")[-1].lower()\n",
    "\n",
    "    # Start searching through pages\n",
    "    reached_last_page = False\n",
    "    while not reached_last_page:\n",
    "        page = requests.get(url)\n",
    "        soup = BeautifulSoup(page.content, 'html.parser')\n",
    "\n",
    "        # Find the names on the page\n",
    "        letter_groups = soup.find_all(class_=\"mw-category-group\")[1:]\n",
    "        for group in letter_groups:\n",
    "            names_in_group = list(map(lambda x: x.text, group.find_all(\"li\")))\n",
    "            names_in_group = [name for name in names_in_group if not name.startswith(\"►\")]\n",
    "            total += len(names_in_group)\n",
    "            artist_names.setdefault(key, []).extend(names_in_group)\n",
    "        print(names_in_group[-4:])\n",
    "\n",
    "        # Find the link to the next page\n",
    "        prev_next_links = soup.find_all(title=category.replace(\"_\", \" \"))\n",
    "        if prev_next_links and \"next\" in prev_next_links[-1].text:\n",
    "            prev_next_links = prev_next_links[-1]\n",
    "            url = root + prev_next_links.get(\"href\") # URL for the next page\n",
    "        else:\n",
    "            print(\"Reached the last page.\")\n",
    "            reached_last_page = True\n",
    "        time.sleep(0.5)\n",
    "print(f\"Found {total} total names.\")"
   ]
  },
  {
   "cell_type": "markdown",
   "metadata": {},
   "source": [
    "## Female rock singers"
   ]
  },
  {
   "cell_type": "code",
   "execution_count": 6,
   "metadata": {},
   "outputs": [
    {
     "name": "stdout",
     "output_type": "stream",
     "text": [
      "Found 610 total names.\n"
     ]
    }
   ],
   "source": [
    "category = \"List_of_female_rock_singers\"\n",
    "root = \"https://en.wikipedia.org\"\n",
    "url = f\"{root}/wiki/{category}\"\n",
    "page = requests.get(url)\n",
    "soup = BeautifulSoup(page.content, 'html.parser')\n",
    "ul = soup.find_all(\"ul\")\n",
    "names = []\n",
    "for section in ul[1:26]:\n",
    "    names.extend(map(lambda x: x.text, section.find_all(\"li\")))\n",
    "print(f\"Found {len(names)} total names.\")\n",
    "artist_names.setdefault(\"female_rock_singers\", []).extend(names)"
   ]
  },
  {
   "cell_type": "markdown",
   "metadata": {},
   "source": [
    "## Male rock singers"
   ]
  },
  {
   "cell_type": "code",
   "execution_count": 7,
   "metadata": {},
   "outputs": [
    {
     "name": "stdout",
     "output_type": "stream",
     "text": [
      "Found 200 total names.\n"
     ]
    }
   ],
   "source": [
    "url = \"https://digitaldreamdoor.com/pages/best_vocalists.html\"\n",
    "page = requests.get(url)\n",
    "soup = BeautifulSoup(page.content, 'html.parser')\n",
    "table = soup.find_all(\"table\", class_=\"t7\")[0]\n",
    "columns = table.find_all(\"td\", class_=\"td16a\")\n",
    "names = []\n",
    "for column in columns:\n",
    "    names.extend(list(map(lambda x: x.split(\".\")[-1].strip(), column.text.strip().split(\"\\n\"))))\n",
    "print(f\"Found {len(names)} total names.\")\n",
    "artist_names.setdefault(\"male_rock_singers\", []).extend(names)    "
   ]
  },
  {
   "cell_type": "markdown",
   "metadata": {},
   "source": [
    "## Male country singers"
   ]
  },
  {
   "cell_type": "code",
   "execution_count": 8,
   "metadata": {},
   "outputs": [
    {
     "name": "stdout",
     "output_type": "stream",
     "text": [
      "Found 904 total names.\n"
     ]
    }
   ],
   "source": [
    "url = \"https://www.countrystartpage.com/music-directory/male/\"\n",
    "page = requests.get(url)\n",
    "soup = BeautifulSoup(page.content, 'html.parser')\n",
    "div = soup.find(class_=\"uk-margin-remove-top uk-grid-margin uk-margin-remove-top\")\n",
    "names = [item.text.split(\"/\")[0].strip() for item in div.find_all(\"li\")]\n",
    "print(f\"Found {len(names)} total names.\")\n",
    "artist_names.setdefault(\"male_country_singers\", []).extend(names)"
   ]
  },
  {
   "cell_type": "markdown",
   "metadata": {},
   "source": [
    "# Combine the different name sources"
   ]
  },
  {
   "cell_type": "code",
   "execution_count": 9,
   "metadata": {},
   "outputs": [
    {
     "name": "stdout",
     "output_type": "stream",
     "text": [
      "Collected a total of 2948 artist names.\n"
     ]
    }
   ],
   "source": [
    "all_artist_names = {}\n",
    "all_artist_names[\"RAP_FEMALE\"] = artist_names[\"american_female_rappers\"]\n",
    "all_artist_names[\"RAP_MALE\"] = artist_names[\"american_male_rappers\"]\n",
    "all_artist_names[\"ROCK_FEMALE\"] = artist_names[\"female_rock_singers\"]\n",
    "all_artist_names[\"ROCK_MALE\"] = artist_names[\"male_rock_singers\"]\n",
    "all_artist_names[\"COUNTRY_FEMALE\"] = artist_names[\"american_female_country_singers\"]\n",
    "all_artist_names[\"COUNTRY_MALE\"] = artist_names[\"male_country_singers\"]\n",
    "print(f\"Collected a total of {sum(map(len, all_artist_names.values()))} artist names.\")"
   ]
  },
  {
   "cell_type": "code",
   "execution_count": 12,
   "metadata": {},
   "outputs": [
    {
     "name": "stdout",
     "output_type": "stream",
     "text": [
      "Saved the artist names dictionary to a pickle.\n"
     ]
    }
   ],
   "source": [
    "with open(\"artist_names.pickle\", \"wb\") as outfile:\n",
    "    pickle.dump(all_artist_names, outfile)\n",
    "print(\"Saved the artist names dictionary to a pickle.\")"
   ]
  },
  {
   "cell_type": "markdown",
   "metadata": {},
   "source": [
    "# Download images while checking for faces\n",
    "\n",
    "## google_images_download\n",
    "\n",
    "https://google-images-download.readthedocs.io/en/latest/"
   ]
  },
  {
   "cell_type": "code",
   "execution_count": 13,
   "metadata": {},
   "outputs": [],
   "source": [
    "from skimage import io\n",
    "import dlib"
   ]
  },
  {
   "cell_type": "code",
   "execution_count": 14,
   "metadata": {},
   "outputs": [],
   "source": [
    "response = google_images_download.googleimagesdownload()"
   ]
  },
  {
   "cell_type": "code",
   "execution_count": 30,
   "metadata": {},
   "outputs": [],
   "source": [
    "# Used for finding faces in the image\n",
    "detector = dlib.get_frontal_face_detector()"
   ]
  },
  {
   "cell_type": "code",
   "execution_count": 70,
   "metadata": {},
   "outputs": [
    {
     "name": "stdout",
     "output_type": "stream",
     "text": [
      "ROCK_MALE\n",
      "(1/200) || Time elapsed: 0.00 minutes.\n",
      "Downloading images for: Freddie Mercury (Queen Solo) ROCK ...\n",
      "https://www.billboard.com/files/styles/article_main_image/public/media/freddie-mercury-queen-1982-r-billboard-1548.jpg\n",
      "ERROR\n",
      "HTTP Error 403: Forbidden\n",
      "Total time elapsed: 0.05 minutes.\n"
     ]
    }
   ],
   "source": [
    "# Get the image URLs for the artist\n",
    "t0 = time.time()\n",
    "output_dir = \"./face_image_downloads_v2/\"\n",
    "# for genre_gender, artist_names in all_artist_names.items():\n",
    "d = {key:all_artist_names[key] for key in [\"ROCK_MALE\", \"COUNTRY_MALE\", \"COUNTRY_FEMALE\"]}\n",
    "for genre_gender, artist_names in d.items():\n",
    "    print(genre_gender)\n",
    "    genre, gender = genre_gender.split(\"_\")\n",
    "    for n, name in enumerate(artist_names):\n",
    "        name = name.replace(\",\", \"\")\n",
    "        try:\n",
    "            query = name + \" \" + genre\n",
    "            if n % 50 == 0:\n",
    "                print(f\"({n+1}/{len(artist_names)}) || Time elapsed: {(time.time() - t0) / 60:.2f} minutes.\")\n",
    "\n",
    "            # Google Image Search\n",
    "            prefix = genre_gender\n",
    "            args = {\"keywords\": query, \"limit\": 3, \"prefix\": prefix, \"silent_mode\": True,\n",
    "                    \"output_directory\": output_dir, \"no_directory\": True, \"delay\": 0.1,\n",
    "                    \"save_source\": \"face_image_urls\", \"print_urls\": False,\n",
    "                    \"no_download\": True, \"size\": \"medium\", \"color_type\": \"full-color\"}\n",
    "            image_path = response.download(args)\n",
    "            prefix = output_dir + prefix\n",
    "\n",
    "            # Check the image URLs for a fOace\n",
    "            for url in image_path[0][query]:\n",
    "                print(url)\n",
    "                try:\n",
    "                    # Read the image URL\n",
    "                    image = io.imread(url)[...,::-1]\n",
    "                   \n",
    "                    # Try to detect a face in the image\n",
    "                    found_array = detector(image, 1)\n",
    "                    if len(face_array) == 1: # Only download images with a single face\n",
    "                        # Format the filename\n",
    "                        ext = url.rsplit(\".\")[-1]\n",
    "                        fp = output_dir + genre + \"_\" + gender + \"_\" + name + \".\" + ext\n",
    "                        fp = fp.split(\"?\", 1)[0]\n",
    "\n",
    "                        # Save the image\n",
    "                        print(\"hi\")\n",
    "                        cv2.imwrite(fp, image)\n",
    "                        break\n",
    "                except Exception as e:\n",
    "                    print(\"ERROR\")\n",
    "                    print(e)\n",
    "                    break\n",
    "            time.sleep(2.5) # Wait a little bit\n",
    "            break\n",
    "        except Exception as e:\n",
    "            print(f'big wait: {e}')\n",
    "            time.sleep(1)\n",
    "            break\n",
    "    break\n",
    "print(f\"Total time elapsed: {(time.time() - t0) / 60:.2f} minutes.\")"
   ]
  },
  {
   "cell_type": "markdown",
   "metadata": {},
   "source": [
    "# Clean up the downloaded file names"
   ]
  },
  {
   "cell_type": "code",
   "execution_count": 94,
   "metadata": {},
   "outputs": [],
   "source": [
    "from glob import glob\n",
    "import os"
   ]
  },
  {
   "cell_type": "code",
   "execution_count": 108,
   "metadata": {},
   "outputs": [],
   "source": [
    "for char in [\"?\", \"%\"]:\n",
    "    image_paths = glob(\"./face_image_downloads/*\")\n",
    "    new_names = list(map(lambda x: x.split(char)[0], image_paths))\n",
    "    for old, fp in zip(image_paths, new_names):\n",
    "        os.rename(old, fp)"
   ]
  },
  {
   "cell_type": "markdown",
   "metadata": {},
   "source": [
    "# List all of the artist names"
   ]
  },
  {
   "cell_type": "code",
   "execution_count": 1,
   "metadata": {},
   "outputs": [],
   "source": [
    "import pickle"
   ]
  },
  {
   "cell_type": "code",
   "execution_count": 2,
   "metadata": {},
   "outputs": [],
   "source": [
    "with open(\"./artist_names.pickle\", \"rb\") as infile:\n",
    "    artists = pickle.load(infile)"
   ]
  },
  {
   "cell_type": "code",
   "execution_count": 7,
   "metadata": {},
   "outputs": [
    {
     "name": "stdout",
     "output_type": "stream",
     "text": [
      "----------------------------------------\n",
      "RAP_FEMALE\n",
      "['Aesja', \"Ak'Sent\", 'Lexii Alijai', 'Amil (rapper)', 'Anquette', 'Antoinette (rapper)', 'Apani B', 'Asian Da Brat', 'Audra the Rapper', 'Whitney Avalon', 'Awkwafina', 'Cardi B', 'Bahamadia', 'Charli Baltimore', 'Azealia Banks', 'Dee Barnes', 'BbyMutha', 'Porcelain Black', 'Toni Blackman', 'Amanda Blank', 'Mary J. Blige', 'Bianca Bonnie', 'Boss (rapper)', 'Da Brat', 'Bhad Bhabie', 'Foxy Brown (rapper)', 'Rene Brown', 'Dai Burger', 'Kandi Burruss', 'BWP (group)', 'Brooke Candy', 'Colette Carr', 'Cecy B', 'Cha Cha (rapper)', 'Chanel West Coast', 'La Chat', 'Traedonya Chequelle', 'Choice (rapper)', 'Toy Connor', 'The Conscious Daughters', 'Imani Coppola', 'Cupcakke', 'Kat Dahlia', 'Deadly Venoms', 'The Def Dames', 'Dessa', 'Dev (singer)', 'Diamond (rapper)', 'Kanary Diamonds', 'Rah Digga', 'Dimples D.', 'Doja Cat', 'Kash Doll', 'Dominique Young Unique', 'Dreezy', 'Carmen Electra', 'Missy Elliott', 'Eve (rapper)', 'Fan 3 (rapper)', 'Kari Faux', 'Feloni', 'Fergie (singer)', 'Tiffany Foxx', 'Njena Reddd Foxxx', 'Free Marie', 'Pearl Future', 'Gangsta Boo', 'Heather B. Gardner', 'The Get Em Mamis', 'Cat Glover', 'Janine Gordon', 'Jean Grae', 'Gripsta', 'Elisakh Hagia', 'Tina Harris', 'Mona Haydar', 'Kalyn Heffernan', 'Qveen Herby', 'Jackie Hill-Perry', 'Lauryn Hill', 'Hopie', 'Angela Hunte', 'Heather Hunter', 'Hurricane G', 'HWA (group)', 'Tish Hyman', 'Icy Blu', 'II Tru', 'India (actress)', 'Invincible (rapper)', 'J. J. Fad', 'Jacki-O', 'Ms. Jade', 'Jaz (musician)', 'Jessi (musician)', \"Ta'Rhonda Jones\", 'Junglepussy', 'K-Swift', 'K. P. & Envyi', 'K.Flay', 'Kamaiyah', 'Katie Got Bandz', 'Kesha', 'Khia', 'Kid Sister', 'Euna Kim', 'Kitty (rapper)', 'Kreayshawn', \"L'Trimm\", 'Lady (American rapper)', 'Lady B', 'Lady Cam', 'Lady Crush', 'Lady iLe', 'Lady Luck (rapper)', 'The Lady of Rage', 'Queen Latifah', 'Mélange Lavonne', 'HeeSun Lee', 'Lega-C', 'Leikeli47', 'Lil Debbie', \"Lil' Kim\", 'Lil Mama', 'Lin Que', 'Lisa Lisa', 'Amber Liu (singer)', 'Lizzo', 'Dej Loaf', 'Lisa Lopes', 'Lumidee', 'MC Lyte', 'Remy Ma', 'Kellee Maize', 'Mala Reignz', 'Angie Martinez', 'Marvaless', 'Lady May', 'Katherine McAlpine', 'Daisha McBride', 'Megan Thee Stallion', 'Ms. Melodie', 'Menajahtwa', 'Midori (actress)', 'Christina Milian', 'Millionaires (duo)', 'Nicki Minaj', 'MISSPSTAR', 'LoLa Monroe', 'Mulatto (rapper)', 'Georgia Anne Muldrow', 'Akua Naru', 'Rico Nasty', 'Naturi Naughton', 'Meshell Ndegeocello', 'Nikki D', 'Princess Nokia', 'Noname (rapper)', 'Nonchalant', \"Oaktown's 357\", 'Overweight Pooch', 'Passion (rapper)', 'Queen Pen', 'Penny (rapper)', 'Pepa (rapper)', 'Brianna Perry', 'Prima J', 'Princess Superstar', 'Hesta Prynn', 'Psalm One', 'PTAF', 'Ivy Queen', \"Rappin' Granny\", 'Rapsody', 'Rasheeda', 'The Real Roxanne', 'Natina Reed', 'Rha Goddess', 'MC Router', 'Elle Royal', 'Rye Rye', 'Sa-Roc', 'Salt (rapper)', 'Salt-N-Pepa', 'Sammus', 'Sarai (rapper)', 'Sasha Go Hard', 'Crystal Scales', 'Nitty Scott', 'Amanda Seales', 'The Sequence', 'Sha-Rock', 'Otep Shamaya', 'Roxanne Shante', 'Sharaya J', 'Shawnna', 'Magnolia Shorty', 'Shunda K', 'Natalie Sims', 'Tairrie B', 'Tekitha', 'Tink (musician)', 'Ms. Toi', 'Trina', 'MC Trouble', 'V-Nasty', 'Vita (rapper)', 'Princess Vitarah', 'Chyna Whyte', 'Kiely Williams', 'Tanya \"Sweet Tee\" Winley', 'Toya Johnson', 'Mia X', 'Yo Majesty', 'Yo-Yo (rapper)', 'Yoon Mi-rae', 'Young M.A', 'Maimouna Youssef']\n",
      "\n",
      "----------------------------------------\n",
      "RAP_MALE\n",
      "['A.D.O.R.', 'Ab-Soul', 'Kevin Abstract', 'Ad-Rock', 'Sammy Adams', 'Add-2', 'Adeem (rapper)', 'Aesop Rock', 'Afroman', 'Afu-Ra', 'Agape (Christian rapper)', 'Ahmad (rapper)', 'Danny Ahn', 'Akinyele (rapper)', 'Akir', 'Akrobatik', 'The Alchemist (musician)', 'Ali (American rapper)', 'André 3000', 'AnonymousCulture', 'Antwon', 'Apache (rapper)', 'Apathy (rapper)', 'Apl.de.ap', 'A+ (rapper)', 'Lawrence Arnell', 'Astronautalis', 'Cities Aviv', 'Awon', 'AZ (rapper)', 'B-Legit', 'B-Real', 'B.G. (rapper)', 'B.o.B.', 'Babel Fishh', 'Baby Boy da Prince', 'Baby D (rapper)', 'Bad Azz (rapper)', 'Boosie Badazz', 'Marty Baller', 'C. Ballin', 'Afrika Bambaataa', 'Bangladesh (record producer)', 'Kirko Bangz', 'Bankroll Fresh', 'Lloyd Banks', 'Pennjamin Bannekar', 'David Banner', 'Count Bass D', 'Mark Battles', 'Jon Bellion', 'Bang Belushi', 'Jarren Benton', 'Benzino', 'Berner (rapper)', 'Big Body Bes', 'Big Boi', 'Big Dipper (rapper)', 'Big Ed (rapper)', 'Big Fase 100', 'Big Gipp', 'Big Hawk', 'Big K.R.I.T.', 'Big Kuntry King', 'Big L', 'Big Lurch', 'Big Mello', 'Big Mike (rapper)', 'Big Moe', 'Big Noyd', 'Big Pokey', 'Big Pooh', 'Big Pun', 'Big Scoob', 'Big Sean', 'Big Shug', 'Big Tuck', 'Birdman (rapper)', 'Bizzle', 'Bizzy Bone', 'Blac Youngsta', 'Black Child', 'Black Cobain', 'Black Milk', 'Black Pegasus', 'Black Rob', 'Black Thought', 'Mike Bleed Da BlockStarr', 'Memphis Bleek', 'Blinky Blink', 'Blood Raw', 'Blu (rapper)', 'Blueprint (rapper)', 'Boldy James', 'Barry Bondz', 'Bones (rapper)', 'Tabi Bonney', 'Boom Bam', 'Dionté Boom', 'Judge Da Boss', 'Bow Wow (rapper)', 'Bobby Brackins', 'M.C. Brains', 'Richie Branson', \"Breez Evahflowin'\", 'Breeze (rapper)', 'Timothy Brindle', 'Brisco (rapper)', 'Action Bronson', 'Bronx Style Bob', 'Brother Ali', 'Brother Marquis', 'Chris Brown', 'Danny Brown', 'Ron Browz', 'Buckshot (rapper)', 'Buff1', 'Bun B', 'Busdriver', 'Bushwick Bill', 'Busy Bee Starski', 'Imhotep Gary Byrd', 'C-Bo', 'C-Murder', 'C-Note (rapper)', 'Scott Caan', 'Cadalack Ron', 'Kutt Calhoun', 'Sway Calloway', 'CaliCam', \"Cam'ron\", 'Camu Tao', 'Canibus', 'Nick Cannon', 'Capone (rapper)', 'Cappadonna', 'Carman (singer)', 'Cash Out', 'Ray Cash', 'Cashis', 'Caskey (rapper)', 'Cassidy (rapper)', 'Cazwell', 'Celph Titled', 'John Cena', 'Chali 2na', 'Chamillionaire', 'Vinny Chase', 'Chaundon', 'Chedda Da Connect', 'Mr. Cheeks', 'Chingy', 'Chino XL', 'Chinx', 'Choppa', 'Chosen Effect', 'Milan Christopher', 'Shawn Chrystopher', 'Chuck D', 'Tha City Paper', 'Charles Coleman (artist)', 'Common (rapper)', 'Jon Connor', 'Consequence (rapper)', 'Cool C', 'Cool Calm Pete', 'Cool Nutz', 'Coolio', 'Copywrite (rapper)', 'YBN Cordae', 'Cormega', 'CPO Boss Hogg (rapper)', 'Bobby Creekwater', 'Criminal Manne', 'Crooked I', 'Omega Crosby', 'Crunchy Black', 'Crypt the Warchild', 'Currensy', 'Cyhi the Prynce', 'D-Shot', 'D.King', 'The D.O.C.', 'Daddy-O (musician)', 'Danny Boy (rapper)', 'Meechy Darko', 'Datin (rapper)', 'Deacon the Villain', 'Menace Demarco', 'Dave East', 'Edan (musician)', 'El-P', 'Eligh', 'Eminem', 'Eraserfase', 'Esoteric (rapper)', 'Everlast (musician)', 'Evidence (musician)', 'Exile (producer)', 'Eyedea', 'Eyenine', 'Alex Faith', 'Fatt Father', 'David Faustino', 'Axel Foley (rapper)', 'Colt Ford', 'Sage Francis', 'Doug E. Fresh', 'Froggy Fresh', 'Leon Frierson', 'G-Eazy', 'Gangsta Blac', 'Gatzby', 'Aha Gazelle', 'Getter (DJ)', 'Ghostemane', 'Gnash (musician)', 'Idris Goodwin', 'Brian Austin Green', 'Grieves', 'Professor Griff', 'Prince Harvey', 'Hulk Hogan', 'Iame (rapper)', 'Jay IDK', 'Iko The Rainman', 'Ill Bill', 'Intuition (rapper)', 'J. Cole', 'Jallal', 'MC Jin', 'Jipsta', 'Canton Jones', 'Chilla Jones', 'Evan Jones (rapper)', 'Jonezen', 'Mic Jordan', 'Juiceboxxx', 'Renz Julian', 'Jus Allah', 'K Camp', 'K.A.A.N.', 'Ka (rapper)', 'Kap G', 'Kemba (hip hop)', 'Cory Kendrix', 'Soul Khan', 'Kid Cudi', 'Kid Rock', 'Anthony Kiedis', 'Kinetics (rapper)', 'King Syze', 'Kirk Knight', 'Kno (musician)', 'Koncept', 'Kosha Dillz', 'Kristoff Krane', 'Krayzie Bone', 'Kurious', 'Kwayzar', 'Mike Ladd', 'Lakey The Kid', 'Bishop Lamont', 'Chris Landry (rapper)', 'MC Lars', 'Jamie Laurie', 'Layzie Bone', 'Stagga Lee', 'Swae Lee', 'Lil Dicky', 'Lil Peep', 'Lil Pump', 'Lil Tracy', 'Lil Wyte', 'Loose Logic', 'Louis Logic', 'Lowkey (American rapper)', 'YFN Lucci', 'Mick Luter', 'M-Doc', 'M-Dot', 'Mac Lethal', 'Machine Gun Kelly (musician)', 'Macklemore', 'Malverde (musician)', 'Travis Miller (musician)', 'Skizzy Mars', 'Christopher Martin (entertainer)', 'Marv Won', 'Matisyahu', 'MattyBRaps', 'Max B', 'Travie McCoy', 'Sean McGowan', 'Mr. J. Medeiros', 'Vic Mensa', 'Muja Messiah', 'Meyhem Lauren', 'Mike Mictlan', 'Mike D', 'Mike Will Made It', 'Cody Miles', 'Jake Miller (singer)', 'Mac Miller', 'Andy Milonakis', 'Mi$tro (rapper)', 'Money-B', 'Mozzy', 'The Mr. Move', 'Mr. Mack', 'Pete Nice', 'Necro (rapper)', 'Nekro G', 'Nichkhun', 'Nickelz', 'Doap Nixon', 'Eli Northrup', 'Novel (musician)', 'J.Oliver', 'Onry Ozzborn', 'Orikal Uno', 'Cecil Otter', 'Outasight', 'Matt Ox', 'Jay Park', 'Joon Park', 'Teddy Park', 'Drew Parks', 'Vinnie Paz', 'Michael Peace', 'Peedi Peedi', 'Manny Phesto', 'Phife Dawg', 'Planetary (rapper)', 'Playalitical', 'Jimmy Pop', 'Post Malone', 'Prodeje', 'Produkt', 'Prof (rapper)', 'Prozak (rapper)', 'Kid Quill', 'R.A. the Rugged Man', 'Radamiz', 'Radioinactive', 'Riff Raff (rapper)', 'Red Café', 'Simon Rex', 'Paulie Rhyme', 'Johnny Richter', 'Rittz', 'Emilio Rojas', 'Rome Cee', 'Asher Roth', 'Russ (rapper)', 'Sacramento Knoxx', 'Saga (rapper)', 'Saint Dog', 'Safaree Samuels', 'D.C. Scorpio', 'Dred Scott (rapper)', 'Travis Scott', 'Young Scrap', 'Sen Dog', 'MC Serch', 'Peniel Shin', 'Mike Shinoda', 'Iman Shumpert', 'Dom Sicily', 'Silkski', 'Raz Simone', 'Sky Blu (rapper)', 'Slaine (rapper)', 'Slick Naim', 'Slick Rick', 'Slug (rapper)', 'Rob Sonic', 'Souleye (hip hop artist)', 'Bubba Sparxxx', 'Speak!', 'Taebin', 'Yhaunai Takiyal', 'Tay-K', 'Gabriel Teodros', 'Termanology', 'Terminator X', 'Tiger JK', 'Time (rapper)', 'Timz', 'Isaiah Toothtaker', 'Brandon Tory', 'Myke Towers', 'Tha Trademarc', 'Don Trip', 'Tyga', 'Upchurch (musician)', 'Vanilla Ice', 'Denmark Vessey', 'Visto (rapper)', 'Mark Wahlberg', 'Wale (rapper)', 'Paul Wall', 'Frank Waln', 'Justin Warfield', 'George Watsky', 'Wax (rapper)', 'Chris Webby', 'Westside Gunn', 'Why Cue', 'Wiki (rapper)', 'Wish Bone', 'Billy Woods (rapper)', 'Wrekonize', 'Xperience', 'Adam Yauch', 'Yelawolf', 'Yonas (hip hop artist)', 'Young Bleed', 'Young Chris', 'Young Prodeje', 'Young Zee', 'Jonny Z', 'VZilla', 'Zombie Juice']\n",
      "\n",
      "----------------------------------------\n",
      "ROCK_FEMALE\n",
      "['Lee Aaron', 'Pearl Aday', 'Sharon Den Adel (Within Temptation)', 'Sade Adu', 'Nanase Aikawa', 'Agent M (Tsunami Bomb)', 'Dot Allison', 'Zayra Alvarez', 'Amber', 'Tori Amos', 'Vanessa Amorosi', 'Christina Amphlett (Divinyls)', 'Diana Anaid', 'Emma Anderson (Lush)', 'Brett Anderson (The Donnas)', 'Laurie Anderson', 'Signe Toly Anderson (Jefferson Airplane)', 'Anouk', 'Sarah Anthony (The Letter Black)', 'Fiona Apple', 'Tasmin Archer', 'Joan Armatrading', 'Stephanie Ashworth (Something for Kate)', 'Aylin Aslim', 'Nicole Atkins', 'Melissa Auf der Maur (Auf der Maur, Hole)', 'Caroline Azar (Fifth Column)', 'Joan Baez', 'Alice Bag (Bags, Castration Squad)', 'Jessica Bailiff', 'Honey Bane', 'Niki Barr', 'Courtney Barnett', 'Edyta Bartosiewicz', 'Becca (Stars in Stereo)', 'Robin Beck', 'Pat Benatar', 'Miki Berenyi (Lush)', 'Cia Berg (Whale)', 'Elizabeth \"Z\" Berg (The Like)', \"Sarah Bettens (K's Choice)\", 'Bif Naked', 'Christina Billotte (Autoclave, Slant 6)', 'Kat Bjelland (Babes in Toyland, Crunt, Katastrophy Wife)', 'Björk (The Sugarcubes)', 'Pauline Black (The Selecter)', 'Porcelain Black (Porcelain and the Tramps)', 'Jody Bleyle (Team Dresch)', 'Beki Bondage (Vice Squad)', 'Tracy Bonham', 'Christina Booth (Magenta)', 'Marie-Mai Bouchard', 'Patti Boulaye', 'Crystal Bowersox', 'Carla Bozulich (Ethyl Meatplow, Geraldine Fibbers)', 'Dale Bozzio (Missing Persons)', 'Bonnie Bramlett', 'Michelle Branch', 'Laura Branigan', 'Lynn Breedlove (Tribe 8)', 'Edie Brickell (Edie Brickell & New Bohemians)', 'Eva Briegel (Juli)', 'Bette Bright (Deaf School)', 'Maria Brink (In This Moment)', 'Elkie Brooks', 'Charmaine Brooks', 'Meredith Brooks', 'Pip Brown (Ladyhawke)', 'Ruth Brown', 'V V Brown', 'Terri Brosius (Tribe)', 'Carrie Brownstein (Excuse 17, Sleater-Kinney)', 'Nanna Bryndís Hilmarsdóttir (Of Monsters and Men)', 'Tahita Bulmer (New Young Pony Club)', 'Anna Burley (The Killjoys)', 'Megan Burns (Betty Curse)', 'Shauna Burns', 'Kate Bush', 'Bilinda Butcher (My Bloody Valentine)', 'Kathryn Calder (Immaculate Machine, The New Pornographers)', 'Alexx Calise', 'Lydia Canaan', 'Dinah Cancer (45 Grave, Dinah Cancer and the Grave Robbers)', \"Belinda Carlisle (The Go-Go's)\", 'Kim Carnes', 'Rachel Carns (The Need, King Cobra)', 'Karen Carpenter (The Carpenters)', 'Lisa Crystal Carver (Suckdog)', 'Neko Case (The New Pornographers, Maow)', 'Cassidy (Antigone Rising)', 'Exene Cervenka (X, Original Sinners)', 'Tracy Chapman', 'Cher', 'Toni Childs', 'Jennifer Charles (Elysian Fields)', 'Carah Faye Charnow (Shiny Toy Guns)', 'Régine Chassagne (Arcade Fire)', 'Alisa Childers (ZOEgirl)', 'Melanie Chisholm (Melanie C)', 'Agnieszka Chylińska (O.N.A.)', 'Chantal Claret (Morningwood)', 'Annie Clark (St. Vincent)', 'Daisy Coburn (Daisy Dares You)', 'Lisa Coleman (Wendy & Lisa)', 'Chi Coltrane', 'Korey Cooper (Skillet)', 'Andrea Corr (The Corrs)', 'Sharon Corr (The Corrs)', 'Nikka Costa', 'Josie Cotton', 'Sarah Cracknell (Saint Etienne)', 'Melora Creager (Rasputina)', 'Sheryl Crow', 'Allison Crowe', 'Alannah Currie (Thompson Twins, Babble (band))', 'Cherie Currie (The Runaways, Cherie & Marie Currie)', 'Marie Currie (Cherie & Marie Currie)', 'Lisa Dalbello', 'Brody Dalle (The Distillers)', 'Danielle Dax', 'Taylor Dayne', 'Kim Deal (Pixies, The Breeders)', 'Joanna Dean', 'Lezlie Deane', \"Carol Decker (T'Pau)\", 'Maria del Mar (National Velvet)', 'Suze DeMarchi (Baby Animals)', 'Tatiana DeMaria (TAT)', 'Marina Diamandis (Marina and the Diamonds)', 'Dido (singer)', 'Ani DiFranco', 'Dilana', 'Beth Ditto (The Gossip)', 'Melanie Doane', 'Julie Doiron', 'Lou Doillon', 'Corinne Drewery (Swing Out Sister)', 'Julie Driscoll', 'Heather Duby', 'Sherri DuPree (Eisley)', 'Bobbie Eakes (Big Trouble)', 'Tammy Ealom (Dressy Bessy, The Minders)', 'Sheena Easton', 'Andrea Echeverri (Aterciopelados)', 'Aimee Echo (TheStart, Human Waste Project)', 'Danielle Egnew', 'Ella', 'Mama Cass Elliot (The Mamas & the Papas)', 'Sophie Ellis-Bextor (Theaudience)', 'Elizabeth Elmore (The Reputation, Sarge)', 'Liz Enthusiasm (Freezepop)', 'Melissa Etheridge', 'Siobhan Fahey (Bananarama, Shakespears Sister)', 'Marianne Faithfull', 'Etty Lau Farrell (Satellite Party)', 'Leslie Feist (Broken Social Scene)', 'Şebnem Ferah', 'Sky Ferreira', 'Melissa Ferrick', 'Jennifer Finch (The Pandoras, L7, The Shocker)', \"Orenda Fink (Azure Ray, Now It's Overhead, Art in Manila)\", 'Samantha Fish', \"Colleen Fitzpatrick (Eve's Plum)\", 'Flor', 'Ellen Foley', 'Cassandra Ford (The Vincent Black Shadow)', 'Frazey Ford', 'Lita Ford (The Runaways, Lita Ford)', 'Dia Frampton (Meg & Dia)', 'Meg Frampton (Meg & Dia)', 'Elizabeth Fraser (Cocteau Twins)', 'Marie Fredriksson (Roxette)', 'Eleanor Friedberger (The Fiery Furnaces)', 'Justine Frischmann (Elastica)', 'Dana Fuchs', 'Miki Furukawa', 'Janet Gardner (Vixen; mid-1980s)', 'Suzi Gardner (L7)', 'KatieJane Garside (Daisy Chainsaw, Queenadreena)', 'Teri Gender Bender (Le Butcherettes)', 'Anna Gerasimova', 'Lisa Germano (Eels)', 'Beth Gibbons (Portishead)', 'Debbie Gibson', 'Anneke van Giersbergen', 'Donna Godchaux', 'Goldy Locks', 'Holly Golightly (Thee Headcoatees)', 'Kim Gordon (Sonic Youth, Free Kitten, Harry Crews)', 'Lesley Gore', 'Nina Gordon (Veruca Salt)', 'Rachel Goswell (Slowdive, Mojave 3)', 'Laura Jane Grace (Against Me!)', 'Wynne Greenwood (Tracy + the Plastics)', 'Jemma Griffiths (Jem)', 'Clare Grogan (Altered Images)', 'Lyndsey Gunnulfsen (PVRIS)', 'Nina Hagen (The Nina Hagen Band)', 'Danielle Haim (Haim)', 'Emily Haines (Broken Social Scene, Emily Haines and the Soft Skeleton and Metric)', 'Lzzy Hale (Halestorm)', 'Toni Halliday (Curve)', 'Bianca Halstead (Betty Blowtorch, Butt Trumpet)', 'Ayumi Hamasaki', 'Kay Hanley (Letters to Cleo)', 'Kathleen Hanna (Bikini Kill, Le Tigre, The Julie Ruin)', 'Lisa Hannigan', 'Annie Hardy (Giant Drag)', 'Sarah Harmer (The Saddletramps, Weeping Tile)', 'Pearl Harbor (Pearl Harbor and the Explosions)', 'Emmylou Harris', ' Debbie Harry 2008 Tribeca portraitDeborah Harry (Blondie)', 'Beth Hart', 'PJ Harvey', 'Annie Haslam (Renaissance)', 'Juliana Hatfield (Blake Babies, The Lemonheads)', 'Charlotte Hatherley (Ash)', 'Miho Hatori (Cibo Matto)', 'Imogen Heap (Frou Frou)', 'Christy Hemme', 'Nona Hendryx', 'Jennifer Herrema (Royal Trux)', 'Kristin Hersh (Throwing Muses, 50 Foot Wave)', 'Susanna Hoffs (The Bangles)', 'Ella Hooper (Killing Heidi)', 'Horse', 'Penelope Houston (The Avengers)', 'Jenny Hoyston (Erase Errata)', 'Laura Hubert (Leslie Spit Treeo)', 'Anne-Marie Hurst (Skeletal Family, Ghost Dance)', 'Chrissie Hynde (The Pretenders)', 'Maja Ivarsson (The Sounds)', 'Debora Iyall (Romeo Void)', 'Laura Imbruglia', 'Natalie Imbruglia', 'Allison Iraheta', 'Izïa', 'Cindy Jackson (The Dollz)', 'Kate Jackson (The Long Blondes)', 'Wanda Jackson', 'Etta James', 'Wendy James (Transvision Vamp)', 'Taylor Jardine (We Are The In Crowd)', 'Jane Jensen', 'Jessicka (Jack Off Jill, Scarling.)', 'Joan Jett (The Runaways, The Blackhearts, Evil Stig)', 'Natalia Jiménez (La Quinta Estación)', 'Martha Johnson (Martha and the Muffins)', 'Marta Jandova (Die Happy)', 'Molly Johnson (Alta Moda, Infidels)', 'Taborah Johnson', 'Gloria Jones', 'Grace Jones', 'Norah Jones', 'Rickie Lee Jones', 'Janis Joplin (Big Brother and the Holding Company, Kozmic Blues Band)', 'Sass Jordan', 'Milla Jovovich', 'K. Juno', 'Josie Cotton', 'Kaliopi', 'Lena Katina', 'Tomoko Kawase (Tommy Heavenly6)', 'Lisa Kekaula (The Bellrays)', 'Rose Kemp', 'Kerri Kenney-Silver (Cake Like)', 'Natasha Khan (Bat for Lashes)', 'Carole King', 'Stefanie Kloß (Silbermond)', 'Chrissi Klug (Luttenberger*Klug)', 'Jennifer Knapp', 'Gladys Knight', 'Theo Kogan (Theo & the Skyscrapers, Lunachicks)', 'Ash Koley', 'Alexis Krauss (Sleigh Bells)', 'Chantal Kreviazuk', 'Sonja Kristina (Curved Air)', 'Jan Kuehnemund (Vixen; early 1970s)', 'Sierra Kusterbeck (VersaEmerge)', 'Lachi', 'Martha Ladly (Martha and the Muffins, The Associates)', 'Natalia Lafourcade', 'LaFee', 'Shona Laing', 'Nomy Lamm', 'Anita Lane', 'Lana Lane', 'Storm Large', 'Liz Larin', 'Cyndi Lauper', 'Dyanna Lauren (Thousand Year Itch)', 'Lauren Laverne (Kenickie)', 'Avril Lavigne', 'Noelle LeBlanc (Damone)', 'Jen Ledger (Skillet (band))', 'Brenda Lee', 'Rita Lee (Os Mutantes)', \"Sook-Yin Lee (Bob's Your Uncle)\", 'Annie Lennox (Eurythmics)', 'Adrianne Leon', 'Katrina Leskanich (Katrina and the Waves)', 'Jenny Lewis (Rilo Kiley, Jenny Lewis and The Watson Twins)', 'Juliette Lewis (Juliette and the Licks)', 'Susanne Lewis (Hail, Thinking Plague)', 'Sonja Kristina Linwood (Curved Air)', 'Little Annie', 'Little Eva', 'Cristina Llanos (Dover)', 'Lisa Lobsinger (Broken Social Scene, Reverie Sound Revue)', 'Lisa Loeb', 'Lora Logic (X-Ray Spex, Essential Logic, Red Krayola)', 'Mary Lou Lord', 'Ruth Lorenzo', 'Inger Lorre (The Nymphs)', 'Bonnie Lou', 'Sara Lov (Devics)', 'Courtney Love (Hole)', 'Darlene Love', 'Lovefoxxx (CSS)', 'Lene Lovich', 'Pearl Lowe (Powder)', 'Lulu', 'Lydia Lunch (Teenage Jesus and the Jerks, Beirut Slump, 8-Eyed Spy, Harry Crews)', 'Michelle Luttenberger (Luttenberger*Klug)', 'Annabella Lwin (Bow Wow Wow)', 'Mariqueen Maandig (How To Destroy Angels)', 'Kirsty MacColl', 'Amy Macdonald', 'Maggie MacDonald (Republic of Safety, Kids on TV, Barcelona Pavilion)', 'Lois Maffeo', 'Leslie Mah (Anti-Scrunti Faction)', 'Kazu Makino (Blonde Redhead)', 'Michelle Malone', \"Aimee Mann ('Til Tuesday)\", 'Barbara Manning', 'Shirley Manson (Garbage, Goodbye Mr Mackenzie, Angelfish)', 'April March', 'Ida Maria', 'Marjo', 'Chan Marshall (Cat Power)', 'Dorothy Martin (Dorothy)', 'Janis Martin', 'Carolyne Mas', 'Ana Matronic (Scissor Sisters)', 'Cerys Matthews (Catatonia)', 'Denise McCann (Headpins)', 'Jenna McDougall (Tonight Alive)', 'Elizabeth McGrath (Miss Derringer)', 'Frances McKee', 'Maria McKee', 'Nikki McKibbin', 'Sarah McLeod (The Superjesus)', 'Sarah McLachlan', 'Holly McNarland', 'Sylvia McNeill', 'Christine McVie (Fleetwood Mac)', 'Fleming McWilliams (Fleming and John)', 'Wendy Melvoin (Wendy & Lisa)', 'Natalie Merchant (10,000 Maniacs)', 'Olivia Merilahti (The Dø)', 'Tift Merritt', 'Riki Michele', 'Bette Midler', 'Amy Millan (Stars, Broken Social Scene)', 'June Millington (Fanny)', 'Darby Mills (Headpins)', 'Rachel Minton (Zolof the Rock & Roll Destroyer)', 'Holly Miranda (The Jealous Girlfriends)', 'Joni Mitchell', 'Taylor Momsen (The Pretty Reckless)', 'Alecia Beth Moore (P!nk)', 'Rebecca Moore', 'Alanis Morissette', 'Patricia Morrison (Bags, Legal Weapon, The Gun Club, The Sisterhood, The Damned)', 'Lisa Moorish', 'Alison Mosshart (Discount, The Kills, The Dead Weather)', 'Alison Moyet (Yazoo)', 'Lennon Murphy', 'Pauline Murray (Penetration)', 'Billie Myers', 'Alannah Myles', 'Mika Nakashima', 'Michie Nakatani (Shonen Knife)', 'Terra Naomi', 'Johnette Napolitano (Concrete Blonde)', 'Leigh Bingham Nash (Sixpence None the Richer)', 'Nena', 'Julia Neigel', 'Anastacia Newkirk (Anastacia)', 'Juice Newton', 'Olivia Newton-John', 'Stevie Nicks (Fleetwood Mac)', 'Nico', 'Ninja (The Go! Team)', 'Sarah Nixey (Black Box Recorder)', 'Stina Nordenstam', 'Tone Norum', 'Kasia Nosowska (Hey)', 'Heather Nova', 'Terri Nunn (Berlin)', 'Laura Nyro', 'Sandra Nasic (Guano Apes)', 'Orianthi', 'Eva O (Christian Death)', 'Karen Orzolek (Yeah Yeah Yeahs)', \"Hazel O'Connor\", \"Sinéad O'Connor\", 'Kaori Okui (Princess Princess)', 'Olivia', 'Yoko Ono (The Plastic Ono Band)', \"Dolores O'Riordan (The Cranberries)\", 'Beth Orton', 'Joan Osborne', 'Amanda Overmyer', 'Amanda Palmer (The Dresden Dolls)', 'Vanessa Paradis', 'Dolly Parton', 'Annette Peacock', 'Jemina Pearl (Be Your Own Pet)', 'Laura Pergolizzi (LP)', 'Linda Perry (4 Non Blondes)', 'Nina Persson (The Cardigans, Sparklehorse, A Camp)', 'Vicki Peterson (The Bangles)', 'Vanessa Petruo', 'Kembra Pfahler (The Voluptuous Horror of Karen Black)', 'Liz Phair', 'Britta Phillips (Luna)', 'Michelle Phillips (The Mamas & the Papas)', 'Phranc (Nervous Gender, Catholic Discipline)', \"Kate Pierson (The B-52's)\", 'Pitty', 'Poe', 'Tamala Poljak (Longstocking)', 'Carole Pope (Rough Trade)', 'Cassadee Pope (Hey Monday)', 'Louise Post (Veruca Salt)', 'Grace Potter (Grace Potter and the Nocturnals)', 'Cat Power', 'Preslava', 'Lisa Marie Presley', 'Anne Preven', 'Lindsay Price', 'Suzi Quatro', 'Sara Quin (Tegan and Sara)', 'Tegan Quin (Tegan and Sara)', 'Diana Quinn (Tru Fax and the Insaniacs, Honky Tonk Confidential, The Fabulettes)', 'Stacey Q', 'Stefy Rae (Stefy)', 'Rainey', 'Bonnie Raitt', 'Mary Ramsey (10,000 Maniacs, John & Mary)', 'Genya Ravan (The Escorts, Goldie & the Gingerbreads, Ten Wheel Drive)', 'Marion Raven', 'Amy Ray (Indigo Girls)', 'Julianne Regan (All About Eve)', 'Jane Relf (Renaissance)', 'Manda Rin (Bis)', 'Catherine Ringer (Les Rita Mitsouko)', 'Janet Robin', 'The Roches', 'Patti Rothberg', 'Linda Ronstadt', 'Tina Root (Switchblade Symphony, Tre Lux)', 'Amanda Rootes (Fluffy)', 'Holly Ross (Angelica)', 'Ellie Rowsell (Wolf Alice)', 'Serena Ryder', 'Lætitia Sadier (Stereolab)', 'Santi White (Stage name Santigold)', 'Jenna Sanz-Agero (Vixen)', 'Saffron (Republica)', 'Svetlana Surganova', 'Emily Saliers (Indigo Girls)', 'Greta Salpeter (The Hush Sound)', 'Hope Sandoval (Mazzy Star, Hope Sandoval & the Warm Inventions)', 'Ximena Sariñana', 'Simi Sernaker (Suffrajett)', 'Moon Shadow (as Goldy Locks', 'Nancy Shanks (Vixen; early 1970s)', 'Sarah Shannon (Velocity Girl)', 'Kim Shattuck (The Muffs, The Pandoras)', 'Ringo Sheena (Tokyo Jihen)', 'Davetta Sherwood', 'Shery', 'Madigan Shive (Tattle Tale, Bonfire Madigan)', 'Ana da Silva (The Raincoats)', 'Jane Siberry (AKA Issa)', 'Jenny Simmons (Addison Road)', 'Simone Simons', 'Juliet Simms (Automatic Loveletter)', 'Carly Simon', 'Nina Simone', 'Nancy Sinatra', 'Siouxsie Sioux (Siouxsie and the Banshees, The Creatures)', 'Skin (Skunk Anansie)', 'Grace Slick (Jefferson Airplane, Jefferson Starship, Starship)', 'Tara Slone (Joydrop)', 'Jen Smith (Dub Narcotic Sound System)', 'Patti Smith', 'Shawnee Smith', 'Carly Smithson (We Are the Fallen)', 'Patty Smyth (Scandal)', 'Azalia Snail', 'Jill Sobule', 'Marla Sokoloff (Smitten)', 'Pepper Somerset (My Life With The Thrill Kill Kult)', 'Louisa Rachel Solomon (The Shondes)', 'Donita Sparks (L7)', 'Ronnie Spector (The Ronettes)', 'Regina Spektor', 'Pamela Spence', 'Sharleen Spiteri (Texas)', 'Adalita Srsen (Magic Dirt)', 'Becky Stark (Lavender Diamond)', 'Ryan Starr', 'Alison Statton (Young Marble Giants, Weekend)', 'Gwen Stefani (No Doubt)', 'Juanita Stein (Howling Bells)', 'Marnie Stern', 'Laura Stoica', 'Linda Strawberry', 'Re Styles (The Tubes)', 'Poly Styrene (X-Ray Spex)', 'Alison Sudol (A Fine Frenzy)', 'Donna Summer', 'Lacey Sturm (Flyleaf)', 'Rachel Sweet', 'Skye Sweetnam', 'Koko Taylor', \"Maria Taylor (Azure Ray, Now It's Overhead)\", 'Susan Tedeschi', 'Özlem Tekin', 'Keiko Terada (Show-Ya)', 'Texas Terri', 'Tikaram Tanita', 'Sister Rosetta Tharpe', 'Kristy Thirsk (Delerium, Rose Chronicles)', 'Sandi Thom', 'Irma Thomas', 'Linda Thompson', 'Tracey Thorn (Everything But The Girl)', 'Tiffany', 'Mary Timony (Helium, Autoclave, Wild Flag)', 'Martina Topley-Bird', 'Beth Torbert (Bif Naked)', 'Emilíana Torrini', 'Rachel Trachtenburg (Trachtenburg Family Slideshow Players)', 'Sisely Treasure (Shiny Toy Guns)', 'Lindsey Troy (Deap Vally)', 'Jen Trynin', 'Anna Tsuchiya', 'Corin Tucker (Sleater-Kinney)', 'KT Tunstall', 'Tina Turner', 'Tarja Turunen', 'Bonnie Tyler', 'Judie Tzuke', 'Ari Up (The Slits, New Age Steppers)', 'Tobi Vail (Bikini Kill)', 'Tomiko Van (Do As Infinity)', 'Marijne van der Vlugt (Salad, Cowboy Racer)', 'Anneke van Giersbergen (The Gathering)', 'Tara Vanflower (Lycia)', 'Cherry Vanilla', 'Suzanne Vega', 'Mariska Veres (Shocking Blue)', 'Holly Beth Vincent (Holly and the Italians)', 'Julia Volkova', 'Dionne Warwick', 'Lyn-Z Way (Mindless Self Indulgence)', 'Mary Weiss (The Shangri-Las)', 'Florence Welch (Florence and the Machine)', 'Louise Wener (Sleeper)', 'Silje Wergeland (The Gathering, Octavia Sperati)', 'Tina Weymouth (Talking Heads, Tom Tom Club)', 'Harriet Wheeler (The Sundays)', 'Emily Jane White', 'Katie White (The Ting Tings)', 'Meg White (The White Stripes)', \"Jane Wiedlin (The Go-Go's)\", 'Toyah Willcox', 'Kim Wilde', 'Tess Wiley (Sixpence None the Richer)', 'Hayley Williams (Paramore)', 'Lucinda Williams', 'Wendy O. Williams (Plasmatics)', 'Ann Wilson (Heart)', \"Cindy Wilson (The B-52's)\", 'Kaia Wilson (Adickdid, Team Dresch, The Butchies)', 'Nancy Wilson (Heart)', 'Amy Winehouse', 'Karin Wistrand (Lolita Pop)', 'Whitney Wolanin', 'Allison Wolfe (Bratmobile, Partyline)', 'Jen Wood (The Postal Service, Tattle Tale)', 'Holly Woods (Toronto)', \"D'arcy Wretzky (The Smashing Pumpkins)\", 'Shannon Wright', 'Naoko Yamano (Shonen Knife)', 'Rachael Yamagata', 'Kim Yoon-ah (Jaurim)', \"Ella Yelich-O'Connor (Lorde)[1]\", 'Astrid Young', 'Pia Zadora', 'Mary Lu Zahalan', 'Mia Zapata (The Gits)', 'Thalia Zedek (Live Skull)', 'Zemfira', 'Annette Zilinskas (The Bangles)', 'Zola Jesus']\n",
      "\n",
      "----------------------------------------\n",
      "ROCK_MALE\n",
      "['Freddie Mercury (Queen, Solo)', 'Elvis Presley', 'Robert Plant (Led Zeppelin, Solo)', 'Jackie Wilson', 'Roy Orbison', 'Sam Cooke', 'Ian Gillan (Deep Purple, Solo)', 'Stevie Wonder', 'Jeff Buckley', 'Steve Perry (Journey, Solo)', 'Clyde McPhatter (Drifters, Dominoes, Solo)', 'Roger Daltrey (The Who, Solo)', 'Marvin Gaye', 'Rob Halford (Judas Priest)', 'Little Richard', 'Paul McCartney (The Beatles, Wings, Solo)', 'Bruce Dickinson (Iron Maiden, Solo)', 'Ronnie James Dio  (Rainbow, Black Sabbath, Solo)', 'Al Green', 'Roy Hamilton', 'Tony Williams (Platters)', 'Otis Redding', 'Chris Cornell (Soundgarden, Temple Of The Dog, Solo)', 'Little Willie John', 'Paul Rodgers (Free, Bad Company, Queen)', 'Smokey Robinson', 'Geoff Tate (Queensrÿche)', 'Burton Cummings (The Guess Who, Solo)', 'David Bowie', 'Adam Lambert', 'Solomon Burke', \"Axl Rose (Guns N' Roses)\", 'Sebastian Bach (Skid Row)', 'Brad Delp (Boston)', 'Eddie Kendricks (The Temptations, Solo)', 'Dan McCafferty (Nazareth)', 'Sam Moore (Sam & Dave)', 'Levi Stubbs (Four Tops)', 'Wilson Pickett', 'King (The Drifters, Solo)', 'Roy Khan (Kamelot)', 'Dennis DeYoung (Styx, Solo)', 'Bill Medley  (The Righteous Brothers, Solo)', 'Luther Vandross', 'Van Morrison (Them, Solo)', 'Peter Cetera (Chicago)', 'Joe Cocker', 'David Ruffin (The Temptations, Solo)', 'Carl Wilson (Beach Boys)', 'Michael Matijevic (Steelheart)', 'Eric Burdon (Animals, War, Solo)', 'James Brown', 'Billy Joel', 'Richard Manuel (The Band)', 'Bungle)', 'Tim Buckley', 'Lou Gramm (Foreigner)', 'David Byron (Uriah Heep)', 'Brian Wilson (Beach Boys)', 'Layne Staley (Alice In Chains, Mad Season)', 'Glenn Hughes (Deep Purple)', 'Elton John', 'Justin Hayward (Moody Blues)', 'Jim Morrison (The Doors)', 'Frankie Valli (The Four Seasons, Solo)', 'Jimmy Beaumont (The Skyliners)', 'Jimi Jamison (Survivor)', 'Barry White', 'John Farnham (The Little River Band)', 'Maynard James Keenan (Tool, Perfect Circle)', 'Curtis Mayfield', 'Rod Stewart (The Jeff Beck Group, Solo)', 'Dion (Dion and The Belmonts)', 'Meat Loaf', 'Greg Lake (ELP, King Crimson)', 'Del Shannon', 'Serj Tankian (System Of A Down)', 'Art Garfunkel (Simon & Garfunkel, Solo)', 'Philip Bailey (Earth, Wind & Fire)', 'Prince', 'Dennis Edwards (The Temptations)', 'Bono (U2)', 'John Lennon (The Beatles, Solo)', 'Bob Seger', 'David Coverdale (Deep Purple, Whitesnake)', 'Steve Winwood (Traffic, Solo)', 'Eddie Vedder (Pearl Jam)', 'Neil Diamond', 'Sammy Hagar (Van Halen, Solo)', 'Bill Withers', 'Todd Rundgren', 'Cedric Bixler-Zavalla (At The Drive In, The Mars Volta)', 'Mick Jagger (Rolling Stones)', 'Klaus Meine (Scorpions)', 'Steve Marriott (Humble Pie)', 'Robin Zander (Cheap Trick)', 'Jack Bruce (Cream)', 'Bruce Springsteen', 'Don Henley (The Eagles)', 'John Fogerty (Creedence Clearwater Revival, Solo)', 'Steven Tyler (Aerosmith)', 'Lou Christie', 'Philip Anselmo (Pantera)', 'Jerry Lee Lewis', 'Kevin Cronin (REO Speedwagon)', 'Jimmy Gnecco (Ours)', 'Jon Anderson (Yes)', 'Peter Gabriel (Genesis, Solo)', 'Steve Walsh (Kansas)', 'Nick Cave', 'Gregg Allman (Allman Brothers Band)', 'Russell Allen (Symphony X)', 'Jon Bon Jovi (Bon Jovi)', 'David Lee Roth (Van Halen)', 'James Taylor', 'Aaron Neville', 'Sting (The Police)', ')', 'Lindsay Buckingham (Fleetwood Mac)', 'David Gilmour (Pink Floyd)', \"Screamin' Jay Hawkins\", 'John Kay (Steppenwolf)', 'Ray Davies (The Kinks)', 'Bon Scott (AC/DC)', 'Joe Elliot (Def Leppard)', 'Cat Stevens', 'Jeff Lynne (ELO)', 'George Harrison (The Beatles)', 'Chuck Negron (Three Dog Night)', 'Brian Johnson (AC/DC)', 'Mitch Ryder (Mitch Ryder & the Detroit Wheels)', 'Paul Simon (Simon & Garfunkel, Solo)', 'Neil Young (Buffalo Springfield, CSNY, Solo)', 'Ronnie Van Zant (Lynyrd Skynyrd)', 'Bryan Adams', 'Phil Collins (Genesis, Solo)', 'Eric Clapton (Cream, Blind Faith, Solo)', 'David Clayton-Thomas (Blood, Sweat, & Tears)', 'Don Mclean', 'Ozzy Osbourne (Black Sabbath)', 'Roger McGuinn (The Byrds)', 'Gary Cherone (Extreme)', 'Adam Duritz (Counting Crows)', 'Roger Waters (Pink Floyd)', 'Steve Miller', 'John Wetton (King Crimson)', 'Anthony Kiedis (Red Hot Chili Peppers)', 'Graham Nash (Hollies, CSNY)', 'Ian Anderson (Jethro Tull)', 'James Hetfield (Metallica)', 'Michael Hutchence (INXS)', 'Michael McDonald (Doobie Brothers, Solo)', 'Levon Helm (The Band)', 'Scott Weiland (Stone Temple Pilots)', 'Johnny Rzeznik (Goo Goo Dolls)', 'Morrissey (The Smiths)', 'Robert Smith (Cure)', 'James Labrie (Dream Theater)', 'Mark Lanegan (Screaming Trees)', 'Leslie West (Mountain)', \"Doug Pinnick (King's X)\", 'Denny Doherty (The Mamas & Papas)', 'Aaron Lewis (Staind)', 'Felix Cavaliere (The Young Rascals)', 'Paul Weller (The Jam, The Style Council)', 'Joe Lynn Turner (Deep Purple)', 'Chris De Burgh', 'Mark Farner (Grand Funk Railroad)', 'Tommy Shaw (Styx)', 'Thom Yorke (Radiohead)', 'Phil Lynott (Thin Lizzy)', 'Matt Bellamy (Muse)', 'Edward Kowalczyk (Live)', \"John Sebastian (Lovin' Spoonful, Solo)\", 'Elvis Costello', 'James Dewar (Robin Trower)', 'Peter Wolf (J Geils Band)', 'Dave Mason (Traffic, Solo)', 'Graham Bonnet (Rainbow)', 'Peter Frampton', 'Robert Palmer', 'Glenn Tilbrook (Squeeze)', 'Billy Squier', 'Warren Zevon', 'Billy Idol (Generation X, Solo)', 'John Popper (Blues Traveler)', 'Tommy James (Tommy James & the Shondells)', 'Trent Reznor (Nine Inch Nails)', 'Brandon Boyd (Incubus)', 'Greg Kihn', 'Myles Kennedy (Alter Bridge, Mayfield 4)', 'Stephen Stills (Buffalo Springfield, CSNY, Solo)', 'Tom Petty', 'Dave Gahan (Depeche Mode)', 'Ian Astbury (The Cult)', 'Chris Robinson (The Black Crows)', 'Geddy Lee (Rush)', 'Corey Glover (Living Color)', 'Lou Reed (Velvet Underground)', 'Joe Strummer (The Clash)']\n",
      "\n",
      "----------------------------------------\n",
      "COUNTRY_FEMALE\n",
      "['Abi (Hoffman)', 'Ariel Abshire', 'Kay Adams (singer)', 'Julien Aklei', 'Lauren Alaina', 'Christine Albert', 'Daniele Alexander', 'Jessi Alexander', 'Susie Allanson', 'Deborah Allen', 'Rosalie Allen', 'Amy Allison', 'Abby Anderson', 'Liz Anderson', 'Lynn Anderson', 'Courtney Marie Andrews', 'Jessica Andrews', 'Jill Andrews', 'Sheila Andrews', 'Lisa Angelle', 'Michaela Anne', 'Susan Anton', 'Angie Aparo', 'Katie Armiger', 'Ashley Arrison', 'Susan Ashton', 'Patti Austin', 'Mae Boren Axton', 'Joan Baez', 'Katherine Bailess', 'Rachel Baiman', 'Kelsea Ballerini', 'Veronica Ballestrini', 'Kelleigh Bannen', 'Ava Barber', 'Mandy Barnett', 'Gabby Barrett', 'Molly Bee', 'Delia Bell', 'Laura Benanti', 'Stephanie Bentley', 'Barbi Benton', 'Matraca Berg', 'Crystal Bernard', 'Bonnie Bishop', 'Jeanne Black', 'Ronee Blakley', 'Nicki Bluhm', 'KK Bodiford', 'Petrella Ann Bonner', 'Debby Boone', 'Sarah Borges', 'Jenn Bostic', 'Margie Bowes', 'Danielle Bradbery', 'Dale Ann Bradley', 'Bekka Bramlett', 'Michelle Branch', 'Kippi Brannon', 'Jennifer Brantley', 'Cait Brennan', 'Camille Bright-Smith', 'Logan Brill', 'Annie Brobst', 'Lane Brody', 'Karen Brooks', 'Bonnie Brown (musician)', 'Kaci Brown', 'Lacey Brown', 'Maxine Brown (country singer)', 'Shannon Brown (singer)', 'Jann Browne', 'Bailey Bryan', 'Sherry Bryce', 'Laura Bryna', 'Samantha Bumgarner', 'Pat Bunch', 'Laura Bell Bundy', 'Wilma Burgess', 'Pearl Butler', 'Sarah Buxton', 'Sera Cahoone', 'Cam (singer)', 'Ashley Campbell (musician)', 'Kate Campbell', 'Melonie Cannon', 'Laura Cantrell', 'Irene Cara', 'Lindsey Cardinale', 'Brandi Carlile', 'Paulette Carlson', 'Kim Carnes', 'Candi Carpenter', 'Mary Chapin Carpenter', 'Jenny Lou Carson', 'Martha Carson', 'Anita Carter', 'Carlene Carter', 'Deana Carter', 'Helen Carter', 'Janette Carter', 'Maybelle Carter', 'Sara Carter', 'Caitlin Cary', 'Neko Case', 'June Carter Cash', 'Rosanne Cash', 'Cindy Cashdollar', 'Connie Cato', 'Jean Chapel', 'Lana Chapel', 'Beth Nielsen Chapman', 'Cee Cee Chapman', 'Marshall Chapman', 'Charlene (singer)', 'Mary Jo Chelette', 'Kristin Chenoweth', 'Jessie Chris', 'Claudia Church', 'Brandy Clark', 'Patsy Cline', 'Candy Coburn', 'Anita Cochran', 'Tammy Cochran', 'Kellie Coffey', 'Aileeah Colgan', 'Lorrie Collins', 'Jessi Colter', 'Shelly Colvin', 'Amie Comeaux', 'Kendal Conrad', 'Elizabeth Cook', 'Kristy Lee Cook', 'Rita Coolidge', 'Wilma Lee Cooper', 'Helen Cornelius', 'Joanna Cotten', 'Anna Craig', 'Melodie Crittenden', 'Sheryl Crow', 'Bobbie Cryner', 'Lisa Daggs', 'Kimberley Dahme', 'Amy Dalley', 'Lacy J. Dalton', 'Dale Daniel', 'Helen Darling (singer)', 'Sarah Darling', 'Velva Darnell', 'Gail Davies', 'Linda Davis', 'Skeeter Davis', 'Stephanie Davis (singer)', 'Jennifer Day', 'Star De Azlan', 'Roxie Dean', 'Penny DeHaven', 'Grey DeLisle', 'Iris DeMent', 'Kassie DePaiva', 'Daisy Dern', 'Cheryl Deserée', 'Amber Dotson', 'Dottsy', 'Donna Douglas', 'Shelby Dressel', 'Whitney Duncan', 'Clare Dunn', 'Holly Dunn', 'Bobbie Eakes', 'Stacey Earle', 'Gayla Earlene', 'Sheena Easton', 'Connie Eaton', 'Brooke Eden', 'Meredith Edwards (singer)', 'Katrina Elam', 'Carrie Elkin', 'Alecia Elliott', 'Erin Enderlin', 'Ralna English', 'Erika Jo', 'Dale Evans', 'Sara Evans', 'Betty Everett', 'Barbara Fairchild', 'Shelly Fairchild', 'McKenna Faith', 'Donna Fargo', 'Rachel Farley', 'Fayssoux Starling McLean', 'Juni Fisher', 'Kye Fleming', 'Rosie Flores', 'Mary Ford', 'Connie Francis', 'Paula Frazer', 'Adrianna Freeman', 'Dori Freeman', 'Reneé Garcia', 'Kristin Garner', 'Mary Gauthier', 'Crystal Gayle', 'Ashley Gearing', 'Bobbie Gentry', 'Haley Georgia', 'Terri Gibbs', 'Susan Gibson', 'Rhiannon Giddens', 'Teea Goans', 'Tammy Graham', 'Terry Gregory', 'Patty Griffin', 'Nanci Griffith', 'Emily Grove (singer)', 'Cady Groves', 'Bonnie Guitar', 'Mickey Guyton', 'Lucy Hale', 'Connie Hall', 'Kristen Hall', 'Jennifer Hanson', 'Arlene Harden', 'Gus Hardin', 'Linda Hargrove', 'Joni Harms', 'Jessica Harp', 'Emmylou Harris', 'Kree Harrison', 'Ali Harter', 'Lisa Hartman Black', 'Kerry Harvick', 'Lindsey Haun', 'Erin Hay', 'Kata Hay', 'Amber Hayes', 'Susan Haynes', 'Natalie Hemby', 'Jessie Mae Hemphill', 'Terri Hendrix', 'Caroline Herring', 'Faith Hill', 'Goldie Hill', 'Kim Hill (singer)', 'Becky Hobbs', 'Kelly Hogan', 'Rebecca Holden', 'Jolie Holland', 'Terri Hollowell', 'Georgia Holt', 'Mallary Hope', 'Nikki Hornsby', 'Billie Jean Horton', 'Rita Hosking', 'Julianne Hough', 'Jan Howard', 'Rebecca Lynn Howard', 'Donna Hughes (musician)', 'Sierra Hull', 'Luanne Hunt', 'Julienne Irwin', 'Sonya Isaacs', 'Wanda Jackson', 'Jana Jae', 'Jessie James Decker', 'Mickie James', 'Joanna Janét', 'Sarah Jarosz', 'Penny Jay', 'Jewel (singer)', 'Eilen Jewell', 'Sarah Johns', 'Lois Johnson', 'Caroline Jones (singer)', 'Diana Jones (singer-songwriter)', 'Kacey Jones', 'Norah Jones', 'Naomi Judd', 'Wynonna Judd', 'Candye Kane', 'Krystal Keith', 'Joanie Keller', 'Kristen Kelly', 'Mary Ann Kennedy (American singer)', 'Cheyenne Kimball', 'Jill King', 'Caroline Kole', 'Jana Kramer', 'Alison Krauss', 'La Costa', 'Skylar Laine', 'Holly Lamar', 'Miranda Lambert', 'Dawn Landes', 'Cristy Lane', 'Nikki Lane', 'Kasey Lansdale', 'Shelly Lares', 'Nicolette Larson', 'Cyndi Lauper', 'Vicki Lawrence', 'Buffy Lawson', 'Melissa Lawson', 'Annie LeBlanc', 'Robin Lee Bruce', 'Brenda Lee', 'Jacquie Lee', 'Jesse Lee (singer)', 'Joni Lee', 'Scooter Lee', 'Zella Lehr', 'Danni Leigh', 'Sonia Leigh', 'Linda Gail Lewis', 'Margaret Lewis (singer-songwriter)', 'Kelli Lidell', 'Lillie Mae', 'Hillary Lindsey', 'LaWanda Lindsey', 'Meghan Linsey', 'Lissie', 'Peggy Little', 'Amy Loftus', 'Lizzy Long', 'Bonnie Lou', 'Laura Love', 'Lydia Loveless', 'Patty Loveless', 'Ruby Lovett', 'Lauren Lucas', 'Rachele Lynae', 'Jessica Lynn', 'Judy Lynn', 'Lera Lynn', 'Loretta Lynn', 'Shelby Lynne', 'Mary MacGregor', 'Rose Maddox', 'Natalie Maines', 'Daisy Mallory', 'Barbara Mandrell', 'Irlene Mandrell', 'Louise Mandrell', 'Lorene Mann', 'Krista Marie', 'Tegan Marie', 'Sarah Marince', 'Linda Martell', 'Bobbi Martin', 'Janis Martin', 'Judy Martin (singer)', 'Marilyn Martin', 'Mila Mason', 'Louise Massey', 'Lisa Matassa', 'Kathy Mattea', 'Billie Maxwell', 'Aimee Mayo', 'Talk:Janet McBride (singer)', 'Martina McBride', 'Ashley McBryde', 'Coley McCabe', 'Lila McCann', 'Charly McClain', 'Maureen McCormick', 'Rose Marie McCoy', 'Mindy McCready', 'Jennette McCurdy', 'Reba McEntire', 'Susie McEntire', 'Elaine \"Spanky\" McFarlane', 'Vicky McGehee', 'Maria McKee', 'Lori McKenna', 'Kim McLean', 'Dana McVicker', 'Robin Meade', 'Kristen Merlin', 'Tift Merritt', 'Jo Dee Messina', 'Alyssa Micaela', 'Georgia Middleman', 'Jody Miller', 'Julie Miller', 'Kassie Miller', 'Talk:Mary K. Miller', 'Patti Miner', 'Beverley Mitchell', 'Priscilla Mitchell', 'Katy Moffatt', 'Ashley Monroe', 'Patsy Montana', 'Melba Montgomery', 'Moonshine Kate', 'Abra Moore', 'Allison Moorer', 'Heather Morgan (songwriter)', 'Leigh Nash', 'Nikki Nelson', 'Paula Nelson', 'Shirley Collie Nelson', 'Tracy Nelson (singer)', 'Jennifer Nettles', 'Heidi Newfield', 'Juice Newton', 'Rosie Nix Adams', 'Michelle Nixon', 'Gabbie Nolen', 'Norma Jean (singer)', 'Alecia Nugent', \"Mollie O'Brien\", \"Molly O'Day (singer)\", 'Joan Osborne', 'K. T. Oslin', 'Marie Osmond', 'Bonnie Owens', 'Sunny Ozell', 'Patti Page', 'Allison Paige', 'Rissi Palmer', 'Gwyneth Paltrow', 'Hayden Panettiere', 'Caryl Mack Parker', 'Alison Parson', 'Dolly Parton', 'Stella Parton', 'Joyce Paul', 'Carly Pearce', 'Minnie Pearl', 'Danielle Peck', 'Peggy Sue (singer)', 'Gretchen Peters', 'Kendall Phillips', 'Kellie Pickler', 'Taylor Pie', 'Sasha Pieterse', 'Pink Nasty', 'Celinda Pink', 'Mary Kay Place', 'Cassadee Pope', 'Alisan Porter', 'Sandy Posey', 'Rachel Potter', 'Amelia Presley', 'Angaleena Presley', 'Margo Price', 'Becky Priest', 'Rachel Proctor', 'Jeanne Pruett', 'Missi Pyle', 'Stephanie Quayle', 'Terry Radigan', 'RaeLynn', 'Missy Raines', 'Bonnie Raitt', 'Rattlesnake Annie', 'Susan Raye', 'Megan Redmond', 'Julie Reeves', 'Ronna Reeves', 'Geri Reischl', 'Kimmie Rhodes', 'Kim Richey', 'Jeannie C. Riley', 'LeAnn Rimes', 'Emily Ann Roberts', 'Julie Roberts', 'Mica Roberts', 'Betty Jean Robinson', 'Karyn Rochelle', 'Judy Rodman', 'Carrie Rodriguez', 'Tammy Rogers', 'Lulu Roman', 'Linda Ronstadt', 'Caitlin Rose', 'Chaley Rose', 'Liz Rose', 'Maggie Rose', 'Pam Rose', 'Shawna Russell', 'Maggie Sajak', 'Mary Sarah', 'Leslie Satcher', 'Haley Scarnato', 'Hillary Scott', 'Dawn Sears', 'Gwen Sebastian', 'Pebe Sebert', 'Jeannie Seely', 'Marilyn Sellars', 'Aubrie Sellers', 'Lisa Shaffer', 'Shana (singer)', 'Maia Sharp', 'Rosemary Sharp', 'Terri Sharp', 'Sunday Sharpe', 'Victoria Shaw (singer)', 'Jean Shepard', 'Ashton Shepherd', 'Chevel Shepherd', 'Amanda Shires', 'Kalie Shorr', 'Lizzie Sider', 'Jenny Simpson (singer)', 'Jessica Simpson', 'Nancy Sinatra', 'Margie Singleton', 'Alina Smith', 'Ashley Smith (singer)', 'Connie Smith', 'Hazel Smith', 'Jo Smith', 'Margo Smith', 'Mindy Smith', 'Sammi Smith', 'Shawnee Smith', 'Billie Jo Spears', 'Jamie Lynn Spears', 'Karen Staley', 'Roba Stanley', 'Star Anna', 'Lisa Stewart', 'Laurie Stirratt', 'Nora Jane Struthers', 'Christy Sutherland', 'Sunny Sweeney', 'Rachel Sweet', 'Taylor Swift', 'Sylvia (singer)', 'Karen Taylor-Good', 'Brette Taylor', 'Cathie Taylor', 'Kim Taylor', 'Chalee Tennison', 'Ashley Tesoro', 'Texas Ruby', 'Elvie Thomas', 'Sue Thompson', 'Cyndi Thomson', 'Marsha Thornton', 'Pam Tillis', 'Karen Tobin', 'Holly Tucker (musician)', 'Tanya Tucker', 'Leah Turner', 'Mary Lou Turner', 'Valerie Turner', 'Molly Tuttle', 'Kris Tyler', 'Ryan Tyler', 'Donna Ulisse', 'Carrie Underwood', 'Harvie June Van', 'Vicki Vann', 'Sharon Vaughn', 'Adia Victoria', 'Gina Villalobos', 'Rhonda Vincent', 'Jenna von Oÿ', 'Cindy Walker', 'Tamara Walker', 'Rachel Wammack', 'Taylor Ware', 'Jennifer Warnes', 'Sara Watkins', 'Kayla Watson', 'Gillian Welch', 'Kitty Wells', 'Dottie West', 'Emily West', 'Shelly West', 'Casey Weston', 'Cheryl Wheeler', 'Karli Whetstone', 'Cheryl White', 'Joy Lynn White', 'Lari White', 'Sarah White', 'Sharon White (singer)', 'Hailey Whitters', 'Audrey Williams', 'Talk:Becky Williams (singer)', 'Chickie Williams', 'Dar Williams', 'Holly Williams', 'Joy Williams (singer)', 'Trisha Yearwood', 'Adrienne Young', 'Pia Zadora', 'Andrea Zonn']\n",
      "\n",
      "----------------------------------------\n",
      "COUNTRY_MALE\n",
      "['A.J. Roach', 'Aage Oagee Nordheim', 'Aaron Goodvin', 'Aaron Hendra', 'Aaron Lines', 'Aaron Pritchett', 'Aaron Tippin', 'Aaron Watson', 'Adam Carroll', 'Adam Fisher', 'Adam Harvey', 'Adam Hood', 'Adam Klein', 'Adam Shoenfeld', 'Ade Payne', 'Adrian Kosky', 'Al Perkins', 'Alan Jackson', 'Albert Lee', 'Andre Camilleri', 'Andreas Oscar', 'Andrew Carlton', 'Andrew Dean', 'Andrew Morris', 'Marco R. Wagner', 'Andy Griggs', 'Andy Hersey', 'Ansel Brown', 'Anson Carter', 'Anthony Orio', 'Anthony Smith', 'Anthony Tullo', 'Arly Karlsen', 'Artie Dean Harris', 'Audun Njerve', 'Austin Cunningham', 'Barry Michael', 'Barry West', 'Bart Crow', 'Beaver Nelson', 'Ben Bostick', 'Ben Coulter', 'Ben Jones', 'Bill Anderson', 'Bill Rice', 'Billy Bridge', 'Billy Cerveny', 'Billy Currington', 'Billy Dean', 'Billy Ed Wheeler', 'Billy Gilman', 'Billy Joe Shaver', 'Billy Kay', 'Billy Ray Cyrus', 'Billy Walker', 'Billy Yates', 'Blaine Larsen', 'Blake Shelton', 'Blake Stamper', 'Bo Porter', 'Bo Walton', 'Bob Cheevers', 'Bob Delevante', 'Bob Cushing', 'Bob Dipiero', 'Bob Norman', 'Bob Style', 'Bob Wills', 'Bobby Bare', 'Bobby Cage', 'Bobby Cash', 'Bobby D. Sawyer', 'Bobby Dee', 'Bobby Duncan', 'Bobby Goldsboro', 'Bobby Marquez', 'Bobby Wills', 'Boo Ray', 'Boomer McLennan', 'Boone', 'Boxcar Willie', 'Brad Cole', 'Brad Johner', 'Brad Lee Schroeder', 'Brad Paisley', 'Brady Seals', 'Brandon Jenkins', 'Brandon Rhyder', 'Brantley Gilbert', 'Brendon Walmsley', 'Brenn Hill', 'Brent Allen', 'Brent Ronen', 'Brett Eldredge', 'Brett Wall', 'Brett Young', 'Brian Xander', 'Brian Davis', 'Brian Hughes', 'Brian Lynn Jones', 'Brian Stace', 'Bryan Cole', 'Bryan David Smith', 'Bryan White', 'Bryce Pallister', 'Buddy Brown', 'Buck Owens', 'Bucky Covington', 'Buddy Jewell', 'Buddy Miller', 'Buford Pope', 'Canaan Smith', 'Carter Winter', 'Case Garrett', 'Casey James', 'Chad Brownlee', 'Chance McKinney', 'Charley Pride', 'Charlie Daniels', 'Charlie McCoy', 'Charlie Robison', 'Chase Rice', 'Chet Atkins', 'Chip Hanna', 'Chris Blair', 'Chris Cagle', 'Chris Cook', 'Chris Golden', 'Chris Guenther', 'Chris Hennessee', 'Chris Hillman', 'Chris Janson', 'Chris Knight', 'Chris Lane', 'Chris LeDoux', 'Chris Miller', 'Chris Nance', 'Chris Richards', 'Chris Scruggs', 'Chris Sparks', 'Chris Stapleton', 'Chris Tyler', 'Chris Young', 'Christian Kjellvander', 'Chuck Allen Floyd', 'Chuck Cannon', 'Chuck Courtenay', 'Chuck Maultsby', 'Chuck Pyle', 'Chuck Schaeffer', 'Chuck Wicks', 'CJ Solar', 'Clay Rigdon', 'Clay Underwood', 'Clay Walker', 'Clayton Bellamy', 'Cletis Carr', 'Cliffie Stone', 'Clint Black', 'Clint Bullard', 'Codie Prevost', 'Cody Jinks', 'Cody Joe Hodges', 'Cody McCarver', 'Cody Webb', 'Cole Bradley', 'Cole Swindell', 'Colin Buchanan', 'Colin Fox', 'Collin Raye', 'Colton Chapman', 'Con Hunley', 'Cooper Boone', 'Cooper Wade', 'Corb Lund', 'Corey Cox', 'Corey Smith', 'Cort Carpenter', 'Cory Morrow', 'Cowboy Copas', 'Cowboy Troy', 'Craig Bickhardt', 'Craig Morgan', 'Dale Boyle', 'Dale Watson', 'Dallas Wayne', 'Dalton Roberts', 'Damon Johnson', 'Dan Crump', 'Dan Demay', 'Dan May', 'Dan McVeigh', 'Dan Tyler', 'Daniel james', 'Daniel Mark Faller', 'Daniel Smith', 'Daniel Young', 'Danny Barnes', 'Danny Mack', 'Danny Ray Cole', 'Darrell Goldman', 'Darell Scott', 'Darren Kozelsky', 'Darryl Lee Rush', 'Darryl Worley', 'Daryle Singletary', 'Dave Insley', 'Dave Jorgenson', 'Dave Mathias', 'Dave Rosewood', 'Dave Russell', 'Dave Vernon', 'Davey T', 'David Adam Byrnes', 'David Anderson', 'David Ball', 'David Bradley', 'David Childers', 'David Church', 'David Cline', 'David Frizzell', 'David Glenn', 'David Grace', 'David Houston', 'David Kraai', 'David Lee Kaiser', 'David Lee Murphy', 'David Norris', 'David Reo', 'David Serby', 'David Shelby', 'David St. Romain', 'Davin James', 'Dawson Reigns', 'Dean Brody', 'Dean Crawford', 'Dean Miller', 'Dean Perrett', 'Dearl Hardy', 'Delbert McClinton', 'Denny Strickland', 'Derek Joseph', 'Derek Ryan', 'Derryl Perry', 'Deryl Dodd', 'Devin Dawson', 'Dick Curless', 'Dierks Bentley', 'Dimitri Diatchenko', 'Doc Killian', 'Don Derby', 'Don Edwards', 'Don Henley', 'Don Williams', 'Donal Hinely', 'Donnie Evetts', 'Donnie Mills', 'Donny Sawyer', 'Doug Adkins', 'Doug Briney', 'Doug Bruce', 'Doug Fitch', 'Doug McCormick', 'Doug Mitchell', 'Doug Moreland', 'Doug Stone', 'Doyle Lawson', 'Dr. Oxide', 'Drake Jensen', 'Drake White', 'Drew Gregory', 'Drew Kennedy', 'Drew Womack', 'Dude Lovett', 'Duff MacDonald', 'Duffy Kane', 'Duncan Ferguson', 'Dustin Lynch', 'Dwain Messer', 'Dwight Yoakam', 'Dylan Schneider', 'Earl Musick', 'Earl Scruggs', 'Earl Thomas Conley', 'Early Ray', 'Easton Corbin', 'Ed Bruce', 'Eddie Bush', 'Eddie Cunningham', 'Eddie Seville', 'Eddy Arnold', 'Eddy Raven', 'Elvis Presley', 'Emil Friis', 'Eric Blakely', 'Eric Church', 'Eric Dodge', 'Eric Dove', 'Eric Paslay', 'Ernest Ashworth', 'Ernest Ray Everett', 'Ernie Ford', 'Ernie Oldfield', 'Filmore', 'Forrest Lee jr.', 'Frank Black', 'Frank Carillo', 'Frank Fara', 'Frank D. Howe', 'Frank James', 'Frank Jennings', 'Frank Turner', 'Freddy Fender', 'Fred Eaglesmith', 'Fred Koller', 'Gabe Garcia', 'Garret Swayne', 'Garth Brooks', 'Gary Allan', 'Gary Bragg', 'Gary Morris', 'Gary P. Nunn', 'Gary Ray', 'Gene Autry', 'Gene Watson', 'George Canyon', 'George Ducas', 'George Fox', 'George Hamilton IV', 'George Jones', 'George Miguel', 'George Molton', 'George Strait', 'Gerry Ford', 'Gis Johannsson', 'Glenn Bennett', 'Glenn Cummings', 'Glenn Reid', 'Glenn Williams', 'Gord Bamford', 'Graeme Connors', 'Gram Parsons', 'Granger Smith', 'Grant Langston', 'Grant Maloy Smith', 'Greg Hager', 'Greg Hanna', 'Greg Moseley', 'Greg Pope', 'Greg Trooper', 'Gurf Morlix', 'Guy Clark', 'Hal Bynum', 'Hal Ketchum', 'Hal Krueger', 'Handasyd Williams', 'Hank Cochran', 'Hank Cramer', 'Hank Snow', 'Hank Williams', 'Hank Williams III', 'Hank Williams Jr.', 'Haven Quint', 'Hayes Carll', 'Henry Smith', 'Hermann Lammers Meyer', 'Hicks', 'Highway Dave', 'Houston Marchman', 'Hunter Hayes', 'Hunter Payne', 'Ian Tyson', 'J.C. Andersen', 'J.C. Cinel', 'JJ Baron', 'J.J. Johns', 'J.K. Coltrain', 'J.Michael Laferty', 'J.P. Williams', 'Jace Everett', 'Jack Greene', 'Jack Ingram', 'Jackie Cox', 'Jackson Taylor', 'Jacob Davis', 'Jake Clayton', 'Jake Kellen', 'Jake Mathews', 'Jake McVey', 'Jake Owen', 'Jake Worthington', 'James Burton', 'James Carothers', 'James Hand', 'James House', 'James Intveld', 'James Lann', 'James Otto', 'James Taylor', 'Jamey Johnson', 'Jami Grooms', 'Jamie Richards', 'Jamie Warren', 'Jason Aldean', 'Jason Benefield', 'Jason Blaine', 'Jason Greeley', 'Jason Howard', 'Jason James', 'Jason McCoy', 'Jason Meadows', 'Jason Michael Carroll', 'Jason Nutt', 'Jason Young', 'Jay Britton', 'Jay Matthes', 'Jay Semko', 'Jeff Bates', 'Jeff Caron', 'Jeff Dayton', 'Jeff Foxworthy', 'Jeff Griffith', 'Jeff Otwell', 'Jeff Taylor', 'Jeff Tuttle', 'Jeffrey Foucault', 'Jeffrey Halford', 'Jeffrey Steele', 'Jeremy Esteb', 'Jeremy McComb', 'Jeremy Parsons', 'Jeremy Steding', 'Jerrod Niemann', 'Jerry Audley', 'Jerry Douglas', 'Jerry Harmon', 'Jerry Jeff Walker', 'Jesse Dayton', 'Jiggley Jones', 'Jim Cuddy', 'Jim Ed Brown', 'Jim Glaser', 'Jim Jones', 'Jim Lauderdale', 'Jim Levatte', 'Jim Owen', 'Jim Reeves', 'Jimmie Allen', 'Jimmie Dale Gilmore', 'Jimmie Rodgers', 'Jimmy Barret', 'Jimmy Dooley', 'Jimmy Fortune', 'Jimmy Kaiser', 'Jimmy Payne', 'Jimmy Ruggiere', 'Jimmy Wayne', 'Jinder', 'J.K. Coltrain', 'Joe Diffie', 'Joe Ely', 'Joe Fournier', 'Joe Nichols', 'Joe Stamm', 'Joe Tinoco', 'Joe Worrel', 'Joe Zelek', 'Joel Fry', 'Joe Hess', 'John Anderson', 'John Arthur Martinez', 'John Bunzow', 'John Carter Cash', 'John Conlee', 'John Denver', 'John Eddie', 'John Fogerty', 'John Hartford', 'John Karl', 'John Landry', 'John Lilly', 'John McEuen', 'John Mellencamp', 'John Michael Montgomery', 'John Moreland', 'John Prine', 'John Stallings', 'John Stephan', 'John Williamson', 'Johnny Bulford', 'Johnny Bush', 'Johnny Cash', 'Johnny Duncan', 'Johnny Lee', 'Johnny PayCheck', 'Johnny Reid', 'Johnny Rodriguez', 'Jon Chandler', 'Jon Christopher Davis', 'Jon Durham', 'Jon Michaels', 'Jon Nolan', 'Jon Pardi', 'Jon Wolfe', 'Jonathan Dale', 'Jordan Carter', 'Jordan Doell', 'Jordan McIntosh', 'Joseph S. Bonsall', 'Josh Dorr', 'Josh Gracin', 'Josh Turner', 'JT Hodges', 'Julian Austin', 'Junior Brown', 'Justin David', 'Justin Townes Earle', 'Justin Trevino', 'Kane Brown', 'Keegan DeWitt', 'Keith Anderson', 'Keith Irwin', 'Keith Miles', 'Keith Urban', 'Keith Walker', 'Kelly Kenning', 'Kelsey DiMarco', 'Ken Bierschbach', 'Keni Thomas', 'Kent Gray', 'Kenny Chesney', 'Kenny Nash', 'Kenny Rogers', 'Kenyon Lockry', 'Kevin Buchanan', 'Kevin Chase', 'Kevin Collins', 'Kevin Fowler', 'Kevin Montgomery', 'Kevin Sharp', 'Kevin Welch', 'Kevin Wood', 'Kid Rock', 'Kinky Friedman', 'Kip Moore', 'Kip Sonnier', 'Knut Bell', 'Kolby Gray', 'Kolt Barber', 'Korby Lenker', 'Kory Wlos', 'Kris Bell', 'Kris Kristofferson', 'Kristian Bush', 'Kurt Thomas', 'Kyle Daniel', 'Kyle Park', 'Lachlan Bryan', 'Larry Cordle', 'Larry Frick', 'Larry Goddard', 'Larry Joe Taylor', 'Larry Pancake', 'Larry Patton', 'Larry Scott Chapman', 'Larry Sparks', 'Larry The Cable Guy', 'Layce Whitworth', 'Lee Forster', 'Lee Greenwood', 'Lee Kernaghan', 'Lefty McRighty', 'Leigh Warren', 'Leland Martin', 'Leroy van Dyke', 'Les Lepage', 'Levi Riggs', 'Levon Helm', 'Lionel Cartwright', 'Lonnie Spiker', 'Lucas Hoge', 'Lucas Stagg', 'Luke Bryan', 'Luke Combs', 'Luke Olson', 'Lyle E Style', 'Lyle Lovett', 'Mac McAnally', 'Marc Daniels', 'Marc Eric', 'Mark Ambrose', 'Mark Bishop', 'Mark Blomsteel', 'Mark Chesnutt', 'Mark Connors', 'Mark Cooke', 'Mark Elliott', 'Mark Erelli', 'Mark Fosson', 'Mark Hackley', 'Mark LeGrand', 'Mark Lorenz', 'Mark Lucas', 'Mark McKinney', 'Mark Scott', 'Mark Wayne Glasmire', 'Mark Wills', 'Mark Winter', 'Markus Rill', 'Marshall Dane', 'Marty Raybon', 'Marty Robbins', 'Marty Stuart', 'Mason Heller', 'Matt Gary', 'Matt Kennon', 'Matt Mason', 'Matt Westin', 'Max Stalling', 'Mel Tillis', 'Merle Haggard', 'Michael C. Kent', 'Michael Dean Church', 'Michael Gresham', 'Michael Hearne', 'Michael Krejci', 'Michael Martin Murphey', 'Michael Patrick', 'Michael Ray', 'Mick Lindsay', 'Mickey Gilley', 'Mickey Newbury', 'Mike Aiken', 'Mike Bella', 'Mike Schikora', 'Mike Clifford', 'Mike Dekle', 'Mike Denver', 'Mike Henderson', 'Mike Lounibos', 'Mike Rodgers', 'Mike Smith', 'Mitch Bradford', 'Mitch Goud', 'Mitchell Tenpenny', 'Moe Bandy', 'Mo Pitney', 'Monty Lane Allen', 'Moot Davis', 'Morgan Evans', 'Morgan Wallen', 'Motongator Joe', 'Murray Boal', 'Narvel Felts', 'Nate Green', 'Nathan Carter', 'Nathan Hamilton', 'Nathan King', 'Nathan Morris', 'Nathan Wade', 'Neal McCoy', 'Neil Hewitt', 'Neil Young', 'Nick Lawrence', 'Norm Brunet', 'Orville Davis', 'Parker Willingham', 'Pat Garrett', 'Pat Green', 'Pat James', 'Pat Terry', 'Pat Waters', 'Patrick Davis', 'Patrick Darrah', 'Patrick Gibson', 'Paul Black', 'Paul Brandt', 'Paul Burch', 'Paul Eason', 'Paul Hayward', 'Paul Marshall', 'Paul McCloud', 'Paul Overstreet', 'Paul Sikes', 'Paul Thorn', 'Paul Tolle', 'Perry Ashley', 'Pete Berwick', 'Pete Rose', 'Pete Schlegel', 'Pete Wilke', 'Peter Brandon', 'Peter Cooper', 'Phil Garland', 'Phil Hamilton', 'Phil Smith', 'Phil Vassar', 'R.B. Stone', 'Radney Foster', \"Ramblin' Jack Elliott\", 'Randall King', 'Randy Allen', 'Randy Brown', 'Randy Huston', 'Randy Travis', 'Ray Benson', 'Ray Herndon', 'Ray Pillow', 'Ray Scott', 'Ray Stevens', 'Ray Wylie Hubbard', 'Rayburn Anthony', 'Red Johnson', 'Red Volkaert', 'Redd Stewart', 'Rhett Akins', 'Rich McCready', \"Rich O'Toole\", 'Richard Leigh', 'Richard Lynch', 'Richie Fields', 'Rick Blanc', 'Rick Dill', 'Rick Monroe', 'Rick Ryman', 'Rick Tippe', 'Rick Trevino', 'Rick Underwood', 'Rickie Lee Tanner', 'Ricky Lynn Gregg', 'Ricky Van Shelton', 'Ricky Young', 'Rivers Rutherford', 'Roadside Mark', 'Rob Hawkins', 'Rob Wilson', 'Robbie Fulks', 'Robert Allen Mycko', 'Robert Bo McGuire', 'Robert Earl Keen', 'Robert Lottman', 'Robert Wiersma', 'Rockie Lynne', 'Rod Esam', 'Rod Melancon', 'Rod Picott', 'Rodney Atkins', 'Rodney Carrington', 'Rodney Crowell', 'Rodrigo Haddad', 'Roger Creager', 'Roger Marin', 'Roger Miller', 'Roger Whittaker', 'Ron Block', 'Ron Rutherford', 'Ron White', 'Ronnie Bowman', 'Ronnie Furr', 'Ronnie Milsap', 'Ronnie Reno', 'Ronny Elliott', 'Roo Arcus', 'Rory Gardiner', 'Roy Clark', 'Roy D. Mercer', 'Roy Heinrich', '>Roy Rogers', 'Royal Wade Kimes', 'Russ Caldwell', 'Russell Dickerson', 'Russell Hitchcock', 'Ryan Bizarri', 'Ryan Casper', 'Ryan James', 'Ryan Jones', 'Sable', 'Sage Keffer', 'Sam Bush', 'Sam Hunt', 'Sam Lardner', 'Sam Moore', 'Sammy Kershaw', 'Sammy Sadler', 'Sam Outlaw', 'Scott Saturday', 'Scott Skirving', 'Scotty McCreery', 'Sean Hogan', 'Sean Patrick McGraw', 'Shane Chisholm', 'Shane Lee', 'Shane owens', 'Shane Prather', 'Shane Yellowbird', 'Shawn Camp', 'Sheb Wooley', 'Shelby Merchant', 'Shooter Jennings', 'Sid Griffin', 'Sivert Bjørdal', 'Skip Gorman', 'Sky Wyatt', 'Slaid Cleaves', 'Slim Dusty', 'Sonny Burgess', 'Steff Nevers', 'Stephen David Austin', 'Stephen Rowe', 'Stephen Simmons', 'Steve Azar', 'Steve Coffey', 'Steve Earle', 'Steve Forde', 'Steve Gibson', 'Steve Grand', 'Steve Holy', 'Steve Richard', 'Steve Wariner', 'Steven Casper', 'Steven Lee Olsen', 'Steven Paul McCollum', 'Steven Tyler', 'Stevie Cee', 'Stewart Coley', \"Stompin' Tom Connors\", 'Stoney La Rue', 'Sturgill Simpson', 'T.G. Sheppard', 'T. Graham Brown', 'T.J. Casey', 'Teddy Morgan', 'Terry Joe Banjo', 'Thomas Rhett', 'Thomas Tillman', 'Thom Shepherd', 'Tim Cooper', 'Tim Dugger', 'Tim McGraw', \"Tim O'Brien\", 'Timothy Craig', 'Toby Keith', 'Todd Fritsch', 'Tom Gillam', 'Tom Leach', 'Tom Russell', 'Tom Shed', 'Tom Wopat', 'Tommy Alverson', 'Tommy Brandt', 'Tommy Cash', 'Tommy Loose', 'Tommy Wood', 'Tony Gilkyson', 'Tony McKenna', 'Tony Rice', 'Tony Watson', 'Townes Van Zandt', 'Trace Adkins', 'Tracy Lawrence', 'Trafton Harvey', 'Travis Collins', 'Travis Rush', 'Travis Tritt', 'Trent Willmon', 'Trevor Alguire', 'Troy Cassar-Daley', 'Two Foot Fred', 'Ty England', 'Ty Herndon', 'Tyler Farr', 'Uncle Kracker', 'Vince Gill', 'W. Dire Wolff', 'Wade Bowen', 'Wade Hayes', 'Walker Hayes', 'Ward Davis', 'Ward Williams', 'Wayland Patton', 'Waylon', 'Waylon Jennings', 'Wayne Hancock', 'Wayne Warner', 'Webb Pierce', 'Wesley Spangler', 'Weston Burt', 'Wilco', 'Will Dudley', 'Will Hoge', 'Will Kimbrough', 'William Clark Green', 'William Lee Golden', 'Willie Nelson', 'Willie Nininger', 'Willie P. Richardson', 'Woody Bradshaw', 'Wylie & the Wild West', 'Wynn Stewart', 'Wynn Varble', 'Zachariah', 'Zane Lewis', 'Zane Williams', 'Zona Jones']\n",
      "\n"
     ]
    }
   ],
   "source": [
    "for key, val in artists.items():\n",
    "    print(40 * \"-\")\n",
    "    print(key)\n",
    "    print(val)\n",
    "    print()"
   ]
  }
 ],
 "metadata": {
  "kernelspec": {
   "display_name": "Python 3",
   "language": "python",
   "name": "python3"
  },
  "language_info": {
   "codemirror_mode": {
    "name": "ipython",
    "version": 3
   },
   "file_extension": ".py",
   "mimetype": "text/x-python",
   "name": "python",
   "nbconvert_exporter": "python",
   "pygments_lexer": "ipython3",
   "version": "3.7.4"
  }
 },
 "nbformat": 4,
 "nbformat_minor": 4
}
