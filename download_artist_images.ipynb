{
 "cells": [
  {
   "cell_type": "code",
   "execution_count": 1,
   "metadata": {
    "ExecuteTime": {
     "end_time": "2018-12-20T05:41:14.992524Z",
     "start_time": "2018-12-20T05:41:12.999745Z"
    }
   },
   "outputs": [],
   "source": [
    "import numpy as np\n",
    "import pandas as pd\n",
    "import matplotlib.pyplot as plt\n",
    "import seaborn as sns\n",
    "import json\n",
    "import time\n",
    "import re\n",
    "from collections import Counter"
   ]
  },
  {
   "cell_type": "code",
   "execution_count": 2,
   "metadata": {
    "ExecuteTime": {
     "end_time": "2018-12-20T05:41:15.037969Z",
     "start_time": "2018-12-20T05:41:15.016892Z"
    }
   },
   "outputs": [],
   "source": [
    "# Change the Matplotlib defaults\n",
    "colors = np.array([(182,109,255),(218,109,0),(0,146,146)])/255\n",
    "plt.rcParams.update({'font.size': 16, 'figure.figsize': (12.0, 6.0)})\n",
    "plt.style.use('seaborn')\n",
    "%matplotlib inline"
   ]
  },
  {
   "cell_type": "markdown",
   "metadata": {},
   "source": [
    "# Load the song lyrics"
   ]
  },
  {
   "cell_type": "code",
   "execution_count": 41,
   "metadata": {},
   "outputs": [
    {
     "data": {
      "text/html": [
       "<div>\n",
       "<style scoped>\n",
       "    .dataframe tbody tr th:only-of-type {\n",
       "        vertical-align: middle;\n",
       "    }\n",
       "\n",
       "    .dataframe tbody tr th {\n",
       "        vertical-align: top;\n",
       "    }\n",
       "\n",
       "    .dataframe thead th {\n",
       "        text-align: right;\n",
       "    }\n",
       "</style>\n",
       "<table border=\"1\" class=\"dataframe\">\n",
       "  <thead>\n",
       "    <tr style=\"text-align: right;\">\n",
       "      <th></th>\n",
       "      <th>title</th>\n",
       "      <th>album</th>\n",
       "      <th>year</th>\n",
       "      <th>lyrics</th>\n",
       "      <th>image</th>\n",
       "      <th>artist</th>\n",
       "      <th>raw</th>\n",
       "      <th>gender</th>\n",
       "      <th>genre</th>\n",
       "    </tr>\n",
       "  </thead>\n",
       "  <tbody>\n",
       "    <tr>\n",
       "      <th>42110</th>\n",
       "      <td>Rocket</td>\n",
       "      <td>Siamese Dream</td>\n",
       "      <td>1994-07-01</td>\n",
       "      <td>Bleed in your own light\\nDream of your own lif...</td>\n",
       "      <td>https://images.genius.com/98ae047016f0e171782e...</td>\n",
       "      <td>Smashing Pumpkins</td>\n",
       "      <td>{'annotation_count': 6, 'api_path': '/songs/13...</td>\n",
       "      <td>male</td>\n",
       "      <td>rock</td>\n",
       "    </tr>\n",
       "    <tr>\n",
       "      <th>53290</th>\n",
       "      <td>When Somebody Knows You That Well</td>\n",
       "      <td>Blake Shelton's Barn &amp; Grill</td>\n",
       "      <td>None</td>\n",
       "      <td>Tommy's daddy, kept a six pack in the fridge\\n...</td>\n",
       "      <td>https://images.genius.com/e06a13f05b598aff9c84...</td>\n",
       "      <td>Blake Shelton</td>\n",
       "      <td>{'embed_content': '&lt;div id='rg_embed_link_1854...</td>\n",
       "      <td>male</td>\n",
       "      <td>country</td>\n",
       "    </tr>\n",
       "  </tbody>\n",
       "</table>\n",
       "</div>"
      ],
      "text/plain": [
       "                                   title                         album  \\\n",
       "42110                             Rocket                 Siamese Dream   \n",
       "53290  When Somebody Knows You That Well  Blake Shelton's Barn & Grill   \n",
       "\n",
       "             year                                             lyrics  \\\n",
       "42110  1994-07-01  Bleed in your own light\\nDream of your own lif...   \n",
       "53290        None  Tommy's daddy, kept a six pack in the fridge\\n...   \n",
       "\n",
       "                                                   image             artist  \\\n",
       "42110  https://images.genius.com/98ae047016f0e171782e...  Smashing Pumpkins   \n",
       "53290  https://images.genius.com/e06a13f05b598aff9c84...      Blake Shelton   \n",
       "\n",
       "                                                     raw gender    genre  \n",
       "42110  {'annotation_count': 6, 'api_path': '/songs/13...   male     rock  \n",
       "53290  {'embed_content': '<div id='rg_embed_link_1854...   male  country  "
      ]
     },
     "execution_count": 41,
     "metadata": {},
     "output_type": "execute_result"
    }
   ],
   "source": [
    "fp = \"./data/SongLyrics/genius_lyrics_subset.json\"\n",
    "songs = pd.read_json(fp)\n",
    "songs.head(2)"
   ]
  },
  {
   "cell_type": "markdown",
   "metadata": {},
   "source": [
    "# Collect the Genius artist image URLs"
   ]
  },
  {
   "cell_type": "code",
   "execution_count": 123,
   "metadata": {},
   "outputs": [],
   "source": [
    "image_urls = {}\n",
    "columns = [\"genre\", \"gender\", \"artist\", \"raw\"]\n",
    "for _, row in songs[columns].iterrows():\n",
    "    genre = row['genre'].upper()\n",
    "    gender = row['gender'].upper()\n",
    "    ID = row['raw']['id']\n",
    "    artist = row['artist']\n",
    "    key = f\"{genre}_{gender}_{ID}_{artist}\".replace(\" \", \"_\")\n",
    "    image_urls[key] = row[\"raw\"][\"primary_artist\"][\"image_url\"]"
   ]
  },
  {
   "cell_type": "markdown",
   "metadata": {},
   "source": [
    "## Where are the images hosted?"
   ]
  },
  {
   "cell_type": "code",
   "execution_count": 38,
   "metadata": {},
   "outputs": [],
   "source": [
    "from collections import Counter"
   ]
  },
  {
   "cell_type": "code",
   "execution_count": 39,
   "metadata": {},
   "outputs": [
    {
     "data": {
      "text/plain": [
       "Counter({'images.genius': 868,\n",
       "         's3.amazonaws': 127,\n",
       "         'i.genius': 1,\n",
       "         'assets.genius': 3,\n",
       "         'images.rapgenius': 1})"
      ]
     },
     "execution_count": 39,
     "metadata": {},
     "output_type": "execute_result"
    }
   ],
   "source": [
    "domains = Counter(map(lambda x: x.split(\".com\")[0].replace(\"https://\", \"\"), image_urls))\n",
    "domains"
   ]
  },
  {
   "cell_type": "markdown",
   "metadata": {},
   "source": [
    "# Download and save the images\n",
    "\n",
    "Or would it be better to not download them, just accessing each URL as I do the face detection?"
   ]
  },
  {
   "cell_type": "code",
   "execution_count": 89,
   "metadata": {},
   "outputs": [],
   "source": [
    "import requests\n",
    "import time"
   ]
  },
  {
   "cell_type": "code",
   "execution_count": 125,
   "metadata": {},
   "outputs": [
    {
     "name": "stdout",
     "output_type": "stream",
     "text": [
      "(  1/1000): ./data/images/ROCK_MALE_131735_Smashing_Pumpkins.jpg\n",
      "( 11/1000): ./data/images/ROCK_MALE_399664_Fleetwood_Mac.jpg\n"
     ]
    },
    {
     "ename": "KeyboardInterrupt",
     "evalue": "",
     "output_type": "error",
     "traceback": [
      "\u001b[0;31m---------------------------------------------------------------------------\u001b[0m",
      "\u001b[0;31mKeyboardInterrupt\u001b[0m                         Traceback (most recent call last)",
      "\u001b[0;32m<ipython-input-125-79e678b0f1b6>\u001b[0m in \u001b[0;36m<module>\u001b[0;34m\u001b[0m\n\u001b[1;32m     18\u001b[0m         \u001b[0mprint\u001b[0m\u001b[0;34m(\u001b[0m\u001b[0;34mf\"Time elapsed: {(time.time() - t0) / 60:.2f} minutes.\"\u001b[0m\u001b[0;34m)\u001b[0m\u001b[0;34m\u001b[0m\u001b[0m\n\u001b[1;32m     19\u001b[0m         \u001b[0mtime\u001b[0m\u001b[0;34m.\u001b[0m\u001b[0msleep\u001b[0m\u001b[0;34m(\u001b[0m\u001b[0;36m3\u001b[0m \u001b[0;34m*\u001b[0m \u001b[0;36m60\u001b[0m\u001b[0;34m)\u001b[0m \u001b[0;31m# Wait three minutes\u001b[0m\u001b[0;34m\u001b[0m\u001b[0m\n\u001b[0;32m---> 20\u001b[0;31m     \u001b[0mtime\u001b[0m\u001b[0;34m.\u001b[0m\u001b[0msleep\u001b[0m\u001b[0;34m(\u001b[0m\u001b[0;36m2\u001b[0m\u001b[0;34m)\u001b[0m \u001b[0;31m# Wait two seconds\u001b[0m\u001b[0;34m\u001b[0m\u001b[0m\n\u001b[0m\u001b[1;32m     21\u001b[0m \u001b[0mprint\u001b[0m\u001b[0;34m(\u001b[0m\u001b[0;34mf\"Total time elapsed: {(time.time() - t0) / 60:.2f} minutes.\"\u001b[0m\u001b[0;34m)\u001b[0m\u001b[0;34m\u001b[0m\u001b[0m\n",
      "\u001b[0;31mKeyboardInterrupt\u001b[0m: "
     ]
    }
   ],
   "source": [
    "t0 = time.time()\n",
    "prefix = \"./data/images/\"\n",
    "for n, (genre_artist, url) in enumerate(image_urls.items()):\n",
    "    # Format the filename\n",
    "    genre, artist = genre_artist.split(\"_\", 1)\n",
    "    ext = url.rsplit(\".\")[-1]\n",
    "    fp = prefix + genre_artist + \".\" + ext\n",
    "    if n % 10 == 0:\n",
    "        print(f\"({n + 1:3.0f}/{len(image_urls)}): {fp}\")\n",
    "\n",
    "    # Download the image\n",
    "    r = requests.get(url, stream=True)\n",
    "    if r.status_code == 200:\n",
    "        image = r.raw.read()\n",
    "        open(fp, \"wb\").write(image)\n",
    "    else:\n",
    "        print(f\"(n={n})\\nBad status code: {r.status_code}\")\n",
    "        print(f\"Time elapsed: {(time.time() - t0) / 60:.2f} minutes.\")\n",
    "        time.sleep(3 * 60) # Wait three minutes\n",
    "    time.sleep(2) # Wait two seconds\n",
    "print(f\"Total time elapsed: {(time.time() - t0) / 60:.2f} minutes.\")"
   ]
  }
 ],
 "metadata": {
  "kernelspec": {
   "display_name": "Python 3",
   "language": "python",
   "name": "python3"
  },
  "language_info": {
   "codemirror_mode": {
    "name": "ipython",
    "version": 3
   },
   "file_extension": ".py",
   "mimetype": "text/x-python",
   "name": "python",
   "nbconvert_exporter": "python",
   "pygments_lexer": "ipython3",
   "version": "3.6.5"
  }
 },
 "nbformat": 4,
 "nbformat_minor": 4
}
