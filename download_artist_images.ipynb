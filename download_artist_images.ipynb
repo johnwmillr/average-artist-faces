{
 "cells": [
  {
   "cell_type": "code",
   "execution_count": 1,
   "metadata": {
    "ExecuteTime": {
     "end_time": "2018-12-20T05:41:14.992524Z",
     "start_time": "2018-12-20T05:41:12.999745Z"
    }
   },
   "outputs": [],
   "source": [
    "import numpy as np\n",
    "import pandas as pd\n",
    "import matplotlib.pyplot as plt\n",
    "import seaborn as sns\n",
    "import json\n",
    "import time\n",
    "import re\n",
    "from collections import Counter\n",
    "import pickle"
   ]
  },
  {
   "cell_type": "code",
   "execution_count": 2,
   "metadata": {
    "ExecuteTime": {
     "end_time": "2018-12-20T05:41:15.037969Z",
     "start_time": "2018-12-20T05:41:15.016892Z"
    }
   },
   "outputs": [],
   "source": [
    "# Change the Matplotlib defaults\n",
    "colors = np.array([(182,109,255),(218,109,0),(0,146,146)])/255\n",
    "plt.rcParams.update({'font.size': 16, 'figure.figsize': (12.0, 6.0)})\n",
    "plt.style.use('seaborn')\n",
    "%matplotlib inline"
   ]
  },
  {
   "cell_type": "markdown",
   "metadata": {},
   "source": [
    "# Load the song lyrics"
   ]
  },
  {
   "cell_type": "code",
   "execution_count": 5,
   "metadata": {},
   "outputs": [
    {
     "name": "stdout",
     "output_type": "stream",
     "text": [
      "Loaded 55013 songs by 303 artists.\n",
      "CPU times: user 30.1 s, sys: 11 s, total: 41.1 s\n",
      "Wall time: 57 s\n"
     ]
    },
    {
     "data": {
      "text/html": [
       "<div>\n",
       "<style scoped>\n",
       "    .dataframe tbody tr th:only-of-type {\n",
       "        vertical-align: middle;\n",
       "    }\n",
       "\n",
       "    .dataframe tbody tr th {\n",
       "        vertical-align: top;\n",
       "    }\n",
       "\n",
       "    .dataframe thead th {\n",
       "        text-align: right;\n",
       "    }\n",
       "</style>\n",
       "<table border=\"1\" class=\"dataframe\">\n",
       "  <thead>\n",
       "    <tr style=\"text-align: right;\">\n",
       "      <th></th>\n",
       "      <th>title</th>\n",
       "      <th>album</th>\n",
       "      <th>year</th>\n",
       "      <th>lyrics</th>\n",
       "      <th>image</th>\n",
       "      <th>artist</th>\n",
       "      <th>raw</th>\n",
       "      <th>gender</th>\n",
       "      <th>genre</th>\n",
       "    </tr>\n",
       "  </thead>\n",
       "  <tbody>\n",
       "    <tr>\n",
       "      <th>0</th>\n",
       "      <td>16 on Death Row</td>\n",
       "      <td>R U Still Down? (Remember Me)</td>\n",
       "      <td>1997-11-25</td>\n",
       "      <td>Death Row\\nThat's where mothafuckas is endin' ...</td>\n",
       "      <td>https://images.genius.com/4f924e981b74c6d754d2...</td>\n",
       "      <td>2Pac</td>\n",
       "      <td>{'annotation_count': 37, 'api_path': '/songs/2...</td>\n",
       "      <td>male</td>\n",
       "      <td>rap</td>\n",
       "    </tr>\n",
       "    <tr>\n",
       "      <th>1</th>\n",
       "      <td>1995 Police Station Testimony</td>\n",
       "      <td>None</td>\n",
       "      <td>1995-06-28</td>\n",
       "      <td>Woman – Sir, will you raise your right hand, p...</td>\n",
       "      <td>https://images.genius.com/71f2f1a39eb7ffe197e5...</td>\n",
       "      <td>2Pac</td>\n",
       "      <td>{'annotation_count': 1, 'api_path': '/songs/34...</td>\n",
       "      <td>male</td>\n",
       "      <td>rap</td>\n",
       "    </tr>\n",
       "  </tbody>\n",
       "</table>\n",
       "</div>"
      ],
      "text/plain": [
       "                           title                          album        year  \\\n",
       "0                16 on Death Row  R U Still Down? (Remember Me)  1997-11-25   \n",
       "1  1995 Police Station Testimony                           None  1995-06-28   \n",
       "\n",
       "                                              lyrics  \\\n",
       "0  Death Row\\nThat's where mothafuckas is endin' ...   \n",
       "1  Woman – Sir, will you raise your right hand, p...   \n",
       "\n",
       "                                               image artist  \\\n",
       "0  https://images.genius.com/4f924e981b74c6d754d2...   2Pac   \n",
       "1  https://images.genius.com/71f2f1a39eb7ffe197e5...   2Pac   \n",
       "\n",
       "                                                 raw gender genre  \n",
       "0  {'annotation_count': 37, 'api_path': '/songs/2...   male   rap  \n",
       "1  {'annotation_count': 1, 'api_path': '/songs/34...   male   rap  "
      ]
     },
     "execution_count": 5,
     "metadata": {},
     "output_type": "execute_result"
    }
   ],
   "source": [
    "%%time\n",
    "# fp = \"./data/SongLyrics/genius_lyrics_subset.json\"\n",
    "fp = \"./data/SongLyrics/all_songs.json\"\n",
    "songs = pd.read_json(fp)\n",
    "print(f\"Loaded {len(songs)} songs by {songs['artist'].nunique()} artists.\")\n",
    "songs.head(2)"
   ]
  },
  {
   "cell_type": "markdown",
   "metadata": {},
   "source": [
    "# Collect the Genius artist image URLs"
   ]
  },
  {
   "cell_type": "code",
   "execution_count": 9,
   "metadata": {},
   "outputs": [],
   "source": [
    "# Remove duplicate artists\n",
    "artists = songs.drop_duplicates(subset=[\"artist\"])"
   ]
  },
  {
   "cell_type": "code",
   "execution_count": 13,
   "metadata": {},
   "outputs": [],
   "source": [
    "image_urls = {}\n",
    "columns = [\"genre\", \"gender\", \"artist\", \"raw\"]\n",
    "for _, row in artists[columns].iterrows():\n",
    "    genre = row['genre'].upper()\n",
    "    gender = row['gender'].upper()\n",
    "    ID = row['raw']['id']\n",
    "    artist = row['artist']\n",
    "    key = f\"{genre}_{gender}_{ID}_{artist}\".replace(\" \", \"_\")\n",
    "    image_urls[key] = row[\"raw\"][\"primary_artist\"][\"image_url\"]"
   ]
  },
  {
   "cell_type": "code",
   "execution_count": 16,
   "metadata": {},
   "outputs": [],
   "source": [
    "# Save the URLs to a pickle\n",
    "with open(\"artist_image_urls.pickle\", \"wb\") as outfile:\n",
    "    pickle.dump(image_urls, outfile)"
   ]
  },
  {
   "cell_type": "markdown",
   "metadata": {},
   "source": [
    "## Where are the images hosted?"
   ]
  },
  {
   "cell_type": "code",
   "execution_count": 17,
   "metadata": {},
   "outputs": [],
   "source": [
    "from collections import Counter"
   ]
  },
  {
   "cell_type": "code",
   "execution_count": 19,
   "metadata": {},
   "outputs": [
    {
     "data": {
      "text/plain": [
       "Counter({'images.genius': 259,\n",
       "         's3.amazonaws': 35,\n",
       "         'assets.genius': 7,\n",
       "         'images.rapgenius': 1,\n",
       "         'i.genius': 1})"
      ]
     },
     "execution_count": 19,
     "metadata": {},
     "output_type": "execute_result"
    }
   ],
   "source": [
    "domains = Counter(map(lambda x: x.split(\".com\")[0].replace(\"https://\", \"\"), image_urls.values()))\n",
    "domains"
   ]
  },
  {
   "cell_type": "markdown",
   "metadata": {},
   "source": [
    "# Download and save the images\n",
    "\n",
    "Or would it be better to not download them, just accessing each URL as I do the face detection?"
   ]
  },
  {
   "cell_type": "code",
   "execution_count": 20,
   "metadata": {},
   "outputs": [],
   "source": [
    "import requests\n",
    "import time"
   ]
  },
  {
   "cell_type": "code",
   "execution_count": 21,
   "metadata": {},
   "outputs": [
    {
     "name": "stdout",
     "output_type": "stream",
     "text": [
      "(  1/303): ./data/images/RAP_MALE_2177_2Pac.png\n",
      "( 11/303): ./data/images/RAP_MALE_1605981_André_3000.jpg\n",
      "( 21/303): ./data/images/RAP_MALE_29497_Ludacris.jpg\n",
      "( 31/303): ./data/images/RAP_MALE_86146_Tech_N9ne.png\n",
      "( 41/303): ./data/images/RAP_MALE_72696_Chance_The_Rapper.jpg\n",
      "( 51/303): ./data/images/RAP_FEMALE_33152_Missy_Elliott.jpg\n",
      "( 61/303): ./data/images/RAP_MALE_64175_ScHoolboy_Q.jpg\n",
      "( 71/303): ./data/images/RAP_MALE_18463_E-40.jpg\n",
      "( 81/303): ./data/images/RAP_MALE_1830343_B.o.B.jpg\n",
      "( 91/303): ./data/images/RAP_FEMALE_38257_Queen_Latifah.jpg\n",
      "(101/303): ./data/images/RAP_FEMALE_1464028_Da_Brat.jpg\n",
      "(111/303): ./data/images/RAP_FEMALE_2081105_Shawnna.jpg\n",
      "(121/303): ./data/images/RAP_FEMALE_13852_Ciara.png\n",
      "(131/303): ./data/images/RAP_FEMALE_34208_Ms._Dynamite.jpg\n",
      "(141/303): ./data/images/ROCK_MALE_99899_Green_Day.jpg\n",
      "(151/303): ./data/images/ROCK_MALE_387881_Paul_McCartney.jpg\n",
      "(161/303): ./data/images/ROCK_MALE_941697_George_Harrison.jpg\n",
      "(171/303): ./data/images/ROCK_MALE_3582841_Creedence_Clearwater_Revival.jpg\n",
      "(181/303): ./data/images/ROCK_MALE_341383_Journey.jpg\n",
      "(191/303): ./data/images/ROCK_MALE_1210815_Electric_Light_Orchestra.jpg\n",
      "(201/303): ./data/images/ROCK_MALE_386973_Oasis.jpg\n",
      "(211/303): ./data/images/ROCK_MALE_1700730_Chuck_Berry.jpg\n",
      "(221/303): ./data/images/ROCK_MALE_2225691_Vulfpeck.jpg\n",
      "(231/303): ./data/images/COUNTRY_FEMALE_1226854_Dottie_West.jpg\n",
      "(241/303): ./data/images/COUNTRY_FEMALE_586710_Kitty_Wells.jpg\n",
      "(251/303): ./data/images/COUNTRY_FEMALE_1008748_Anita_Carter.png?1518217265\n",
      "(261/303): ./data/images/COUNTRY_MALE_2345045_Ronnie_Dunn.jpg\n",
      "(271/303): ./data/images/COUNTRY_MALE_590391_Cole_Swindell.jpg\n",
      "(281/303): ./data/images/COUNTRY_MALE_185466_Blake_Shelton.jpg\n",
      "(291/303): ./data/images/COUNTRY_MALE_3026497_Josh_Turner.jpg\n",
      "(301/303): ./data/images/COUNTRY_MALE_696342_Dustin_Lynch.jpg\n",
      "Total time elapsed: 13.54 minutes.\n"
     ]
    }
   ],
   "source": [
    "t0 = time.time()\n",
    "prefix = \"./data/images/\"\n",
    "error_count = 0\n",
    "for n, (genre_artist, url) in enumerate(image_urls.items()):\n",
    "    # Format the filename\n",
    "    genre, artist = genre_artist.split(\"_\", 1)\n",
    "    ext = url.rsplit(\".\")[-1]\n",
    "    fp = prefix + genre_artist + \".\" + ext\n",
    "    if n % 10 == 0:\n",
    "        print(f\"({n + 1:3.0f}/{len(image_urls)}): {fp}\")\n",
    "\n",
    "    # Download the image\n",
    "    r = requests.get(url, stream=True)\n",
    "    if r.status_code == 200:\n",
    "        image = r.raw.read()\n",
    "        open(fp, \"wb\").write(image)\n",
    "    else:\n",
    "        error_count += 1\n",
    "        print(f\"(n={n})\\nBad status code: {r.status_code}\")\n",
    "        print(f\"Time elapsed: {(time.time() - t0) / 60:.2f} minutes.\")\n",
    "        print(f\"Error count: {error_count}\")\n",
    "        time.sleep(3 * 60) # Wait three minutes\n",
    "    time.sleep(2) # Wait two seconds\n",
    "    if error_count >= 3:\n",
    "        print(\"Too many errors. Quitting.\")\n",
    "        continue\n",
    "print(f\"Total time elapsed: {(time.time() - t0) / 60:.2f} minutes.\")"
   ]
  }
 ],
 "metadata": {
  "kernelspec": {
   "display_name": "Python 3",
   "language": "python",
   "name": "python3"
  },
  "language_info": {
   "codemirror_mode": {
    "name": "ipython",
    "version": 3
   },
   "file_extension": ".py",
   "mimetype": "text/x-python",
   "name": "python",
   "nbconvert_exporter": "python",
   "pygments_lexer": "ipython3",
   "version": "3.6.5"
  }
 },
 "nbformat": 4,
 "nbformat_minor": 4
}
